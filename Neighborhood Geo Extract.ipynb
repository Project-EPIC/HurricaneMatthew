{
 "cells": [
  {
   "cell_type": "markdown",
   "metadata": {},
   "source": [
    "1. place-based search for \"Savannah\" and \"Tybee\" in the Matthew keyword data (we already have these data from Jennings a few months ago)\n",
    "2. geotagged data in Savannah and Tybee, from the geotagged data set Jennings collected (not Matthew keyword -- all geotagged data)\n",
    "\n",
    "Jennings- For #2, can you define an area around Savannah and Tybee Island and filter to that fairly easily? How big would that data set be? Or would you suggest another approach, if he wants to look at data from that area that doesn't depend on keywords?"
   ]
  },
  {
   "cell_type": "markdown",
   "metadata": {},
   "source": [
    "First, need geometries for Savannah and Tybee Island\n",
    "(The geotagged data is in the windswath regions)"
   ]
  },
  {
   "cell_type": "code",
   "execution_count": 2,
   "metadata": {
    "collapsed": true
   },
   "outputs": [],
   "source": [
    "import os, gzip, json, sys, time\n",
    "from pprint import pprint\n",
    "import pandas as pd\n",
    "from multiprocessing import Pool, Manager\n",
    "from bson import json_util"
   ]
  },
  {
   "cell_type": "code",
   "execution_count": 13,
   "metadata": {
    "collapsed": true
   },
   "outputs": [],
   "source": [
    "# Path where gnip files are stored\n",
    "output_file = '/data/hyperlocal/hurricane_matthew/all_geo_windswath'\n",
    "paths = ['/data/chime/matthew/gnip-geo/ws1','/data/chime/matthew/gnip-geo/ws2','/data/chime/matthew/gnip-geo/ws3']"
   ]
  },
  {
   "cell_type": "code",
   "execution_count": 28,
   "metadata": {
    "collapsed": false
   },
   "outputs": [
    {
     "name": "stdout",
     "output_type": "stream",
     "text": [
      "Found 33486 files, first 5:\n"
     ]
    },
    {
     "data": {
      "text/plain": [
       "['/data/chime/matthew/gnip-geo/ws1/f31wsc2nvq_2016_08_01_00_00_activities.json.gz',\n",
       " '/data/chime/matthew/gnip-geo/ws1/f31wsc2nvq_2016_08_01_00_10_activities.json.gz',\n",
       " '/data/chime/matthew/gnip-geo/ws1/f31wsc2nvq_2016_08_01_00_20_activities.json.gz',\n",
       " '/data/chime/matthew/gnip-geo/ws1/f31wsc2nvq_2016_08_01_00_30_activities.json.gz',\n",
       " '/data/chime/matthew/gnip-geo/ws1/f31wsc2nvq_2016_08_01_00_40_activities.json.gz']"
      ]
     },
     "execution_count": 28,
     "metadata": {},
     "output_type": "execute_result"
    }
   ],
   "source": [
    "files = []\n",
    "for p in paths:\n",
    "    files += [p+\"/\" + x for x in os.listdir(p)]\n",
    "files.sort()\n",
    "print(\"Found {0} files, first 5:\".format(len(files)))\n",
    "files[:5]"
   ]
  },
  {
   "cell_type": "markdown",
   "metadata": {},
   "source": [
    "## Load the files"
   ]
  },
  {
   "cell_type": "code",
   "execution_count": 31,
   "metadata": {
    "collapsed": true
   },
   "outputs": [],
   "source": [
    "def read_file_and_write(inFile, openFile):\n",
    "    '''\n",
    "    Input   (inFile (gzipped), openFile (to write to))\n",
    "    Returns (None)\n",
    "    '''\n",
    "    tweets = []\n",
    "    deadlines = 0\n",
    "    metadata = None\n",
    "\n",
    "    with gzip.open(inFile, 'rb') as f:\n",
    "        file_content = f.read().decode(\"utf-8\") #read in file as string\n",
    "        list_tweets = file_content.split(\"\\n\")  #split string into list of individual tweets\n",
    "        for t in list_tweets:\n",
    "            try:\n",
    "                json_tweet = json.loads(t)                    \n",
    "                if 'info' in json_tweet:\n",
    "                    metadata = json_tweet\n",
    "                else:                \n",
    "                    json_tweet['datetime'] = pd.Timestamp(json_tweet['postedTime'])\n",
    "                    tweets.append(json_tweet)\n",
    "            except:\n",
    "                deadlines+=1\n",
    "\n",
    "    #Ensure the tweets are sorted by time?\n",
    "    sys.stderr.write(\"...sorting...\")\n",
    "    tweets.sort(key=lambda t: t['datetime'])\n",
    "        \n",
    "    for t in tweets:\n",
    "        openFile.write(json.dumps(t,default=json_util.default)+\"\\n\")\n",
    "    \n",
    "    logFile.write(\"Tweets: {0}, {1}, {2}\\n\".format(len(tweets), json.dumps(metadata), str(deadlines)))"
   ]
  },
  {
   "cell_type": "code",
   "execution_count": 32,
   "metadata": {
    "collapsed": false
   },
   "outputs": [],
   "source": [
    "logFile = open('/data/chime/matthew/all-geo-windswath-extract.log','w')"
   ]
  },
  {
   "cell_type": "code",
   "execution_count": null,
   "metadata": {
    "collapsed": false
   },
   "outputs": [
    {
     "name": "stderr",
     "output_type": "stream",
     "text": [
      "2384"
     ]
    }
   ],
   "source": [
    "with open(output_file+'.jsonl','w') as outFile:\n",
    "    for idx, file in enumerate(files):\n",
    "        read_file_and_write(file, outFile)\n",
    "        sys.stderr.write(\"\\r\"+str(idx))\n",
    "logFile.close()"
   ]
  },
  {
   "cell_type": "markdown",
   "metadata": {
    "collapsed": true
   },
   "source": [
    "# Read `.jsonl` file back in?"
   ]
  },
  {
   "cell_type": "code",
   "execution_count": null,
   "metadata": {
    "collapsed": false
   },
   "outputs": [
    {
     "name": "stderr",
     "output_type": "stream",
     "text": [
      "3322805"
     ]
    }
   ],
   "source": [
    "idx = 0;\n",
    "limit = 100\n",
    "tweets = []\n",
    "with open('/data/chime/matthew/all_geo_windswath.jsonl','r') as jsonl_file:\n",
    "    for line in jsonl_file:\n",
    "        tweets.append( json.loads(line) )\n",
    "        \n",
    "        idx += 1\n",
    "        sys.stderr.write(\"\\r\"+str(idx))\n",
    "#         if idx > limit: \n",
    "#             break\n",
    "df = pd.DataFrame(tweets)\n",
    "len(df)"
   ]
  },
  {
   "cell_type": "code",
   "execution_count": null,
   "metadata": {
    "collapsed": false
   },
   "outputs": [],
   "source": [
    "from shapely import geometry\n",
    "import numpy as np"
   ]
  },
  {
   "cell_type": "code",
   "execution_count": null,
   "metadata": {
    "collapsed": false
   },
   "outputs": [],
   "source": [
    "# df.head(5).location.apply(lambda x: pprint(x))"
   ]
  },
  {
   "cell_type": "code",
   "execution_count": null,
   "metadata": {
    "collapsed": false
   },
   "outputs": [],
   "source": [
    "def extractGeometry(row):\n",
    "    #Best case scenario: There is a point coordinate: prioritize these data\n",
    "    if pd.notnull(row.geo):\n",
    "        row.geo['coordinates'].reverse()\n",
    "        return row.geo\n",
    "    else:\n",
    "        if pd.notnull(row.location):\n",
    "            if row.location['twitter_place_type'] != 'admin':\n",
    "                if row.location['geo']['type'] == \"Point\":\n",
    "                    return row.location['geo']\n",
    "                else:\n",
    "                    if len(row.location['geo']['coordinates'][0]) == 4:\n",
    "                        row.location['geo']['coordinates'][0].append(row.location['geo']['coordinates'][0][0])\n",
    "                    return row.location['geo']"
   ]
  },
  {
   "cell_type": "code",
   "execution_count": null,
   "metadata": {
    "collapsed": false
   },
   "outputs": [],
   "source": [
    "df['geojson'] = df.apply(lambda row: extractGeometry(row), axis=1)"
   ]
  },
  {
   "cell_type": "code",
   "execution_count": null,
   "metadata": {
    "collapsed": false
   },
   "outputs": [
    {
     "data": {
      "text/plain": [
       "True"
      ]
     },
     "execution_count": 68,
     "metadata": {},
     "output_type": "execute_result"
    }
   ],
   "source": [
    "pd.notnull(df.geojson).all()"
   ]
  },
  {
   "cell_type": "code",
   "execution_count": null,
   "metadata": {
    "collapsed": false,
    "scrolled": false
   },
   "outputs": [
    {
     "name": "stdout",
     "output_type": "stream",
     "text": [
      "{\"type\": \"Polygon\", \"coordinates\": [[[-81.922577, 32.148875], [-81.922577, 32.176624], [-81.893419, 32.176624], [-81.893419, 32.148875], [-81.922577, 32.148875]]]}\n",
      "{\"type\": \"Polygon\", \"coordinates\": [[[-80.331893, 27.120371], [-80.331893, 27.210603], [-80.251798, 27.210603], [-80.251798, 27.120371], [-80.331893, 27.120371]]]}\n",
      "{\"type\": \"Polygon\", \"coordinates\": [[[-80.150481, 33.010484], [-80.150481, 33.042398], [-80.109619, 33.042398], [-80.109619, 33.010484], [-80.150481, 33.010484]]]}\n",
      "{\"type\": \"Polygon\", \"coordinates\": [[[-81.326884, 28.658956], [-81.326884, 28.730516], [-81.208792, 28.730516], [-81.208792, 28.658956], [-81.326884, 28.658956]]]}\n",
      "{\"type\": \"Point\", \"coordinates\": [-76.38789058, 37.00937833]}\n",
      "{\"type\": \"Polygon\", \"coordinates\": [[[-80.706074, 28.03509], [-80.706074, 28.200658], [-80.593324, 28.200658], [-80.593324, 28.03509], [-80.706074, 28.03509]]]}\n",
      "{\"type\": \"Point\", \"coordinates\": [-77.03889098, 34.66509465]}\n",
      "{\"type\": \"Polygon\", \"coordinates\": [[[-81.285896, 28.84511], [-81.285896, 28.964071], [-81.154121, 28.964071], [-81.154121, 28.84511], [-81.285896, 28.84511]]]}\n",
      "{\"type\": \"Point\", \"coordinates\": [-80.03338164, 32.87707939]}\n",
      "{\"type\": \"Point\", \"coordinates\": [-81.3758, 28.5335]}\n"
     ]
    },
    {
     "data": {
      "text/plain": [
       "0    None\n",
       "1    None\n",
       "2    None\n",
       "3    None\n",
       "4    None\n",
       "5    None\n",
       "6    None\n",
       "7    None\n",
       "8    None\n",
       "9    None\n",
       "Name: geojson, dtype: object"
      ]
     },
     "execution_count": 69,
     "metadata": {},
     "output_type": "execute_result"
    }
   ],
   "source": [
    "df.head(10).geojson.apply(lambda x: print(json.dumps(x)))"
   ]
  },
  {
   "cell_type": "code",
   "execution_count": null,
   "metadata": {
    "collapsed": false
   },
   "outputs": [],
   "source": [
    "df['geometry'] = df.geojson.apply(lambda g: geometry.shape(g))"
   ]
  },
  {
   "cell_type": "code",
   "execution_count": null,
   "metadata": {
    "collapsed": false
   },
   "outputs": [
    {
     "data": {
      "text/plain": [
       "0    POLYGON ((-81.922577 32.148875, -81.922577 32....\n",
       "1    POLYGON ((-80.33189299999999 27.120371, -80.33...\n",
       "2    POLYGON ((-80.150481 33.010484, -80.150481 33....\n",
       "3    POLYGON ((-81.32688400000001 28.658956, -81.32...\n",
       "4                     POINT (-76.38789058 37.00937833)\n",
       "5    POLYGON ((-80.706074 28.03509, -80.706074 28.2...\n",
       "6               POINT (-77.03889098000001 34.66509465)\n",
       "7    POLYGON ((-81.28589599999999 28.84511, -81.285...\n",
       "8                     POINT (-80.03338164 32.87707939)\n",
       "9                             POINT (-81.3758 28.5335)\n",
       "Name: geometry, dtype: object"
      ]
     },
     "execution_count": 71,
     "metadata": {},
     "output_type": "execute_result"
    }
   ],
   "source": [
    "df.head(10).geometry"
   ]
  },
  {
   "cell_type": "code",
   "execution_count": null,
   "metadata": {
    "collapsed": false
   },
   "outputs": [
    {
     "data": {
      "text/plain": [
       "True"
      ]
     },
     "execution_count": 72,
     "metadata": {},
     "output_type": "execute_result"
    }
   ],
   "source": [
    "pd.notnull(df.geometry).all()"
   ]
  },
  {
   "cell_type": "markdown",
   "metadata": {},
   "source": [
    "# Now check the neighborhoods against the DataFrame\n",
    "\n",
    "1. Savannah\n",
    "1. Tybee"
   ]
  },
  {
   "cell_type": "code",
   "execution_count": 123,
   "metadata": {
    "collapsed": false
   },
   "outputs": [],
   "source": [
    "tybee =  {\n",
    "    \"type\": \"Polygon\",\n",
    "    \"coordinates\": [ [\n",
    "        [-80.89831653639936,32.0084957931768],\n",
    "        [ -80.85206251542532, 32.04586355296081],\n",
    "        [ -80.82296508005318, 32.00693318137794],\n",
    "        [ -80.8510462114716, 31.969074767576263],\n",
    "        [ -80.89831653639936, 32.0084957931768]\n",
    "       ]]}\n",
    "\n",
    "savannah = { \"type\": \"Polygon\",\n",
    "\"coordinates\": [[[-81.370276,32.080956],\n",
    "        [-81.370391, 32.081213],\n",
    "        [-81.294246, 32.166137],\n",
    "        [-81.279687, 32.176734],\n",
    "        [-81.2775193, 32.1783063],\n",
    "        [-81.27238, 32.1819238],\n",
    "        [-81.266032, 32.1859062],\n",
    "        [-81.2655971,32.1861401],\n",
    "        [-81.2651941, 32.1862921],\n",
    "        [-81.25942, 32.1878979],\n",
    "        [-81.2588901, 32.1880369],\n",
    "        [-81.25639039999999, 32.1886598],\n",
    "        [-81.2496125,32.1899946],  \n",
    "        [-81.2469189,32.1899526],   \n",
    "        [-81.24380829999998,32.1892917],   \n",
    "        [-81.239605,32.1880479],   \n",
    "        [-81.2361885,32.186843],   \n",
    "        [-81.2352306,32.1865051],\n",
    "        [-81.2263759,32.1832796],  \n",
    "        [-81.1869159,32.1653553],   \n",
    "        [-81.045061,32.082862],   \n",
    "        [-81.030166,32.050784],   \n",
    "        [-81.092455,31.891374],   \n",
    "        [-81.09645,31.890464],   \n",
    "        [-81.10826,31.887867],   \n",
    "        [-81.112658,31.887691],\n",
    "        [-81.119876,31.888527],   \n",
    "        [-81.123748,31.889553],   \n",
    "        [-81.307569,31.982019],   \n",
    "        [-81.307956,31.982389],   \n",
    "        [-81.30823,31.982746],   \n",
    "        [-81.369981,32.080426],   \n",
    "        [-81.370276,32.080956]]]}"
   ]
  },
  {
   "cell_type": "code",
   "execution_count": 124,
   "metadata": {
    "collapsed": false
   },
   "outputs": [],
   "source": [
    "tybee_geom = geometry.shape(tybee)\n",
    "sav_geom   = geometry.shape(savannah)"
   ]
  },
  {
   "cell_type": "code",
   "execution_count": null,
   "metadata": {
    "collapsed": false
   },
   "outputs": [
    {
     "data": {
      "text/plain": [
       "3879"
      ]
     },
     "execution_count": 75,
     "metadata": {},
     "output_type": "execute_result"
    }
   ],
   "source": [
    "tybee_tweets = df[df.geometry.apply(lambda x: x.intersects(tybee_geom))]\n",
    "len(tybee_tweets)"
   ]
  },
  {
   "cell_type": "code",
   "execution_count": null,
   "metadata": {
    "collapsed": false
   },
   "outputs": [
    {
     "data": {
      "text/html": [
       "<div>\n",
       "<table border=\"1\" class=\"dataframe\">\n",
       "  <thead>\n",
       "    <tr style=\"text-align: right;\">\n",
       "      <th></th>\n",
       "      <th>actor</th>\n",
       "      <th>body</th>\n",
       "      <th>datetime</th>\n",
       "      <th>display_text_range</th>\n",
       "      <th>favoritesCount</th>\n",
       "      <th>generator</th>\n",
       "      <th>geo</th>\n",
       "      <th>gnip</th>\n",
       "      <th>id</th>\n",
       "      <th>inReplyTo</th>\n",
       "      <th>...</th>\n",
       "      <th>postedTime</th>\n",
       "      <th>provider</th>\n",
       "      <th>retweetCount</th>\n",
       "      <th>twitter_entities</th>\n",
       "      <th>twitter_extended_entities</th>\n",
       "      <th>twitter_filter_level</th>\n",
       "      <th>twitter_lang</th>\n",
       "      <th>verb</th>\n",
       "      <th>geojson</th>\n",
       "      <th>geometry</th>\n",
       "    </tr>\n",
       "  </thead>\n",
       "  <tbody>\n",
       "    <tr>\n",
       "      <th>119</th>\n",
       "      <td>{'favoritesCount': 17910, 'postedTime': '2012-...</td>\n",
       "      <td>Her first time at the beach 😍🌴🐟💦 https://t.co/...</td>\n",
       "      <td>{'$date': 1470009928000}</td>\n",
       "      <td>NaN</td>\n",
       "      <td>0</td>\n",
       "      <td>{'link': 'http://twitter.com/download/iphone',...</td>\n",
       "      <td>NaN</td>\n",
       "      <td>{'matching_rules': [{'tag': 'id:282,radii:64,c...</td>\n",
       "      <td>tag:search.twitter.com,2005:759902835643445248</td>\n",
       "      <td>NaN</td>\n",
       "      <td>...</td>\n",
       "      <td>2016-08-01T00:05:28.000Z</td>\n",
       "      <td>{'link': 'http://www.twitter.com', 'objectType...</td>\n",
       "      <td>0</td>\n",
       "      <td>{'media': [{'url': 'https://t.co/TLPnCB4j4M', ...</td>\n",
       "      <td>{'media': [{'url': 'https://t.co/TLPnCB4j4M', ...</td>\n",
       "      <td>low</td>\n",
       "      <td>en</td>\n",
       "      <td>post</td>\n",
       "      <td>{'type': 'Polygon', 'coordinates': [[[-80.8834...</td>\n",
       "      <td>POLYGON ((-80.88342 31.98701, -80.88342 32.028...</td>\n",
       "    </tr>\n",
       "    <tr>\n",
       "      <th>255</th>\n",
       "      <td>{'favoritesCount': 3687, 'postedTime': '2012-0...</td>\n",
       "      <td>Stung by a jellyfish &amp;amp; sunburned on day 1,...</td>\n",
       "      <td>{'$date': 1470010282000}</td>\n",
       "      <td>NaN</td>\n",
       "      <td>0</td>\n",
       "      <td>{'link': 'http://instagram.com', 'displayName'...</td>\n",
       "      <td>{'type': 'Point', 'coordinates': [-80.84944444...</td>\n",
       "      <td>{'urls': [{'url': 'https://t.co/ANXF1hWD54', '...</td>\n",
       "      <td>tag:search.twitter.com,2005:759904319940415488</td>\n",
       "      <td>NaN</td>\n",
       "      <td>...</td>\n",
       "      <td>2016-08-01T00:11:22.000Z</td>\n",
       "      <td>{'link': 'http://www.twitter.com', 'objectType...</td>\n",
       "      <td>0</td>\n",
       "      <td>{'urls': [{'url': 'https://t.co/ANXF1hWD54', '...</td>\n",
       "      <td>NaN</td>\n",
       "      <td>low</td>\n",
       "      <td>en</td>\n",
       "      <td>post</td>\n",
       "      <td>{'type': 'Point', 'coordinates': [-80.84944444...</td>\n",
       "      <td>POINT (-80.84944444 32.00666667)</td>\n",
       "    </tr>\n",
       "    <tr>\n",
       "      <th>1930</th>\n",
       "      <td>{'favoritesCount': 8292, 'postedTime': '2011-1...</td>\n",
       "      <td>@KMHUG @FemaleStruggIes relatable x100 😂😂</td>\n",
       "      <td>{'$date': 1470013971000}</td>\n",
       "      <td>NaN</td>\n",
       "      <td>0</td>\n",
       "      <td>{'link': 'http://twitter.com/download/iphone',...</td>\n",
       "      <td>NaN</td>\n",
       "      <td>{'matching_rules': [{'tag': 'id:281,radii:50,c...</td>\n",
       "      <td>tag:search.twitter.com,2005:759919791066845184</td>\n",
       "      <td>{'link': 'http://twitter.com/KMHUG/statuses/75...</td>\n",
       "      <td>...</td>\n",
       "      <td>2016-08-01T01:12:51.000Z</td>\n",
       "      <td>{'link': 'http://www.twitter.com', 'objectType...</td>\n",
       "      <td>0</td>\n",
       "      <td>{'urls': [], 'symbols': [], 'user_mentions': [...</td>\n",
       "      <td>NaN</td>\n",
       "      <td>low</td>\n",
       "      <td>en</td>\n",
       "      <td>post</td>\n",
       "      <td>{'type': 'Polygon', 'coordinates': [[[-80.8834...</td>\n",
       "      <td>POLYGON ((-80.88342 31.98701, -80.88342 32.028...</td>\n",
       "    </tr>\n",
       "    <tr>\n",
       "      <th>2012</th>\n",
       "      <td>{'favoritesCount': 3012, 'postedTime': '2012-0...</td>\n",
       "      <td>@erin_gniewek who put these onions under my eyes</td>\n",
       "      <td>{'$date': 1470014139000}</td>\n",
       "      <td>NaN</td>\n",
       "      <td>0</td>\n",
       "      <td>{'link': 'http://twitter.com/download/iphone',...</td>\n",
       "      <td>NaN</td>\n",
       "      <td>{'matching_rules': [{'tag': 'id:281,radii:50,c...</td>\n",
       "      <td>tag:search.twitter.com,2005:759920497102430208</td>\n",
       "      <td>{'link': 'http://twitter.com/erin_gniewek/stat...</td>\n",
       "      <td>...</td>\n",
       "      <td>2016-08-01T01:15:39.000Z</td>\n",
       "      <td>{'link': 'http://www.twitter.com', 'objectType...</td>\n",
       "      <td>0</td>\n",
       "      <td>{'urls': [], 'symbols': [], 'user_mentions': [...</td>\n",
       "      <td>NaN</td>\n",
       "      <td>low</td>\n",
       "      <td>en</td>\n",
       "      <td>post</td>\n",
       "      <td>{'type': 'Polygon', 'coordinates': [[[-80.8834...</td>\n",
       "      <td>POLYGON ((-80.88342 31.98701, -80.88342 32.028...</td>\n",
       "    </tr>\n",
       "    <tr>\n",
       "      <th>2015</th>\n",
       "      <td>{'favoritesCount': 1345, 'postedTime': '2009-0...</td>\n",
       "      <td>Looking forward to later 😏</td>\n",
       "      <td>{'$date': 1470014150000}</td>\n",
       "      <td>NaN</td>\n",
       "      <td>0</td>\n",
       "      <td>{'link': 'http://twitter.com/download/android'...</td>\n",
       "      <td>NaN</td>\n",
       "      <td>{'matching_rules': [{'tag': 'id:281,radii:50,c...</td>\n",
       "      <td>tag:search.twitter.com,2005:759920541671104512</td>\n",
       "      <td>NaN</td>\n",
       "      <td>...</td>\n",
       "      <td>2016-08-01T01:15:50.000Z</td>\n",
       "      <td>{'link': 'http://www.twitter.com', 'objectType...</td>\n",
       "      <td>0</td>\n",
       "      <td>{'urls': [], 'symbols': [], 'user_mentions': [...</td>\n",
       "      <td>NaN</td>\n",
       "      <td>low</td>\n",
       "      <td>en</td>\n",
       "      <td>post</td>\n",
       "      <td>{'type': 'Polygon', 'coordinates': [[[-80.8834...</td>\n",
       "      <td>POLYGON ((-80.88342 31.98701, -80.88342 32.028...</td>\n",
       "    </tr>\n",
       "  </tbody>\n",
       "</table>\n",
       "<p>5 rows × 25 columns</p>\n",
       "</div>"
      ],
      "text/plain": [
       "                                                  actor  \\\n",
       "119   {'favoritesCount': 17910, 'postedTime': '2012-...   \n",
       "255   {'favoritesCount': 3687, 'postedTime': '2012-0...   \n",
       "1930  {'favoritesCount': 8292, 'postedTime': '2011-1...   \n",
       "2012  {'favoritesCount': 3012, 'postedTime': '2012-0...   \n",
       "2015  {'favoritesCount': 1345, 'postedTime': '2009-0...   \n",
       "\n",
       "                                                   body  \\\n",
       "119   Her first time at the beach 😍🌴🐟💦 https://t.co/...   \n",
       "255   Stung by a jellyfish &amp; sunburned on day 1,...   \n",
       "1930          @KMHUG @FemaleStruggIes relatable x100 😂😂   \n",
       "2012   @erin_gniewek who put these onions under my eyes   \n",
       "2015                         Looking forward to later 😏   \n",
       "\n",
       "                      datetime display_text_range  favoritesCount  \\\n",
       "119   {'$date': 1470009928000}                NaN               0   \n",
       "255   {'$date': 1470010282000}                NaN               0   \n",
       "1930  {'$date': 1470013971000}                NaN               0   \n",
       "2012  {'$date': 1470014139000}                NaN               0   \n",
       "2015  {'$date': 1470014150000}                NaN               0   \n",
       "\n",
       "                                              generator  \\\n",
       "119   {'link': 'http://twitter.com/download/iphone',...   \n",
       "255   {'link': 'http://instagram.com', 'displayName'...   \n",
       "1930  {'link': 'http://twitter.com/download/iphone',...   \n",
       "2012  {'link': 'http://twitter.com/download/iphone',...   \n",
       "2015  {'link': 'http://twitter.com/download/android'...   \n",
       "\n",
       "                                                    geo  \\\n",
       "119                                                 NaN   \n",
       "255   {'type': 'Point', 'coordinates': [-80.84944444...   \n",
       "1930                                                NaN   \n",
       "2012                                                NaN   \n",
       "2015                                                NaN   \n",
       "\n",
       "                                                   gnip  \\\n",
       "119   {'matching_rules': [{'tag': 'id:282,radii:64,c...   \n",
       "255   {'urls': [{'url': 'https://t.co/ANXF1hWD54', '...   \n",
       "1930  {'matching_rules': [{'tag': 'id:281,radii:50,c...   \n",
       "2012  {'matching_rules': [{'tag': 'id:281,radii:50,c...   \n",
       "2015  {'matching_rules': [{'tag': 'id:281,radii:50,c...   \n",
       "\n",
       "                                                  id  \\\n",
       "119   tag:search.twitter.com,2005:759902835643445248   \n",
       "255   tag:search.twitter.com,2005:759904319940415488   \n",
       "1930  tag:search.twitter.com,2005:759919791066845184   \n",
       "2012  tag:search.twitter.com,2005:759920497102430208   \n",
       "2015  tag:search.twitter.com,2005:759920541671104512   \n",
       "\n",
       "                                              inReplyTo  \\\n",
       "119                                                 NaN   \n",
       "255                                                 NaN   \n",
       "1930  {'link': 'http://twitter.com/KMHUG/statuses/75...   \n",
       "2012  {'link': 'http://twitter.com/erin_gniewek/stat...   \n",
       "2015                                                NaN   \n",
       "\n",
       "                            ...                          \\\n",
       "119                         ...                           \n",
       "255                         ...                           \n",
       "1930                        ...                           \n",
       "2012                        ...                           \n",
       "2015                        ...                           \n",
       "\n",
       "                    postedTime  \\\n",
       "119   2016-08-01T00:05:28.000Z   \n",
       "255   2016-08-01T00:11:22.000Z   \n",
       "1930  2016-08-01T01:12:51.000Z   \n",
       "2012  2016-08-01T01:15:39.000Z   \n",
       "2015  2016-08-01T01:15:50.000Z   \n",
       "\n",
       "                                               provider retweetCount  \\\n",
       "119   {'link': 'http://www.twitter.com', 'objectType...            0   \n",
       "255   {'link': 'http://www.twitter.com', 'objectType...            0   \n",
       "1930  {'link': 'http://www.twitter.com', 'objectType...            0   \n",
       "2012  {'link': 'http://www.twitter.com', 'objectType...            0   \n",
       "2015  {'link': 'http://www.twitter.com', 'objectType...            0   \n",
       "\n",
       "                                       twitter_entities  \\\n",
       "119   {'media': [{'url': 'https://t.co/TLPnCB4j4M', ...   \n",
       "255   {'urls': [{'url': 'https://t.co/ANXF1hWD54', '...   \n",
       "1930  {'urls': [], 'symbols': [], 'user_mentions': [...   \n",
       "2012  {'urls': [], 'symbols': [], 'user_mentions': [...   \n",
       "2015  {'urls': [], 'symbols': [], 'user_mentions': [...   \n",
       "\n",
       "                              twitter_extended_entities twitter_filter_level  \\\n",
       "119   {'media': [{'url': 'https://t.co/TLPnCB4j4M', ...                  low   \n",
       "255                                                 NaN                  low   \n",
       "1930                                                NaN                  low   \n",
       "2012                                                NaN                  low   \n",
       "2015                                                NaN                  low   \n",
       "\n",
       "     twitter_lang  verb                                            geojson  \\\n",
       "119            en  post  {'type': 'Polygon', 'coordinates': [[[-80.8834...   \n",
       "255            en  post  {'type': 'Point', 'coordinates': [-80.84944444...   \n",
       "1930           en  post  {'type': 'Polygon', 'coordinates': [[[-80.8834...   \n",
       "2012           en  post  {'type': 'Polygon', 'coordinates': [[[-80.8834...   \n",
       "2015           en  post  {'type': 'Polygon', 'coordinates': [[[-80.8834...   \n",
       "\n",
       "                                               geometry  \n",
       "119   POLYGON ((-80.88342 31.98701, -80.88342 32.028...  \n",
       "255                    POINT (-80.84944444 32.00666667)  \n",
       "1930  POLYGON ((-80.88342 31.98701, -80.88342 32.028...  \n",
       "2012  POLYGON ((-80.88342 31.98701, -80.88342 32.028...  \n",
       "2015  POLYGON ((-80.88342 31.98701, -80.88342 32.028...  \n",
       "\n",
       "[5 rows x 25 columns]"
      ]
     },
     "execution_count": 76,
     "metadata": {},
     "output_type": "execute_result"
    }
   ],
   "source": [
    "tybee_tweets.head()"
   ]
  },
  {
   "cell_type": "code",
   "execution_count": 125,
   "metadata": {
    "collapsed": false
   },
   "outputs": [
    {
     "data": {
      "text/plain": [
       "28100"
      ]
     },
     "execution_count": 125,
     "metadata": {},
     "output_type": "execute_result"
    }
   ],
   "source": [
    "sav_tweets = df[df.geometry.apply(lambda x: x.intersects(sav_geom))]\n",
    "len(sav_tweets)"
   ]
  },
  {
   "cell_type": "code",
   "execution_count": 126,
   "metadata": {
    "collapsed": false
   },
   "outputs": [
    {
     "data": {
      "text/plain": [
       "'{\"type\": \"Polygon\", \"coordinates\": [[[-81.370276, 32.080956], [-81.370391, 32.081213], [-81.294246, 32.166137], [-81.279687, 32.176734], [-81.2775193, 32.1783063], [-81.27238, 32.1819238], [-81.266032, 32.1859062], [-81.2655971, 32.1861401], [-81.2651941, 32.1862921], [-81.25942, 32.1878979], [-81.2588901, 32.1880369], [-81.25639039999999, 32.1886598], [-81.2496125, 32.1899946], [-81.2469189, 32.1899526], [-81.24380829999998, 32.1892917], [-81.239605, 32.1880479], [-81.2361885, 32.186843], [-81.2352306, 32.1865051], [-81.2263759, 32.1832796], [-81.1869159, 32.1653553], [-81.045061, 32.082862], [-81.030166, 32.050784], [-81.092455, 31.891374], [-81.09645, 31.890464], [-81.10826, 31.887867], [-81.112658, 31.887691], [-81.119876, 31.888527], [-81.123748, 31.889553], [-81.307569, 31.982019], [-81.307956, 31.982389], [-81.30823, 31.982746], [-81.369981, 32.080426], [-81.370276, 32.080956]]]}'"
      ]
     },
     "execution_count": 126,
     "metadata": {},
     "output_type": "execute_result"
    }
   ],
   "source": [
    "json.dumps(geometry.mapping(sav_geom))"
   ]
  },
  {
   "cell_type": "code",
   "execution_count": 127,
   "metadata": {
    "collapsed": false
   },
   "outputs": [
    {
     "data": {
      "text/html": [
       "<div>\n",
       "<table border=\"1\" class=\"dataframe\">\n",
       "  <thead>\n",
       "    <tr style=\"text-align: right;\">\n",
       "      <th></th>\n",
       "      <th>actor</th>\n",
       "      <th>body</th>\n",
       "      <th>datetime</th>\n",
       "      <th>display_text_range</th>\n",
       "      <th>favoritesCount</th>\n",
       "      <th>generator</th>\n",
       "      <th>geo</th>\n",
       "      <th>gnip</th>\n",
       "      <th>id</th>\n",
       "      <th>inReplyTo</th>\n",
       "      <th>...</th>\n",
       "      <th>provider</th>\n",
       "      <th>retweetCount</th>\n",
       "      <th>twitter_entities</th>\n",
       "      <th>twitter_extended_entities</th>\n",
       "      <th>twitter_filter_level</th>\n",
       "      <th>twitter_lang</th>\n",
       "      <th>verb</th>\n",
       "      <th>geojson</th>\n",
       "      <th>geometry</th>\n",
       "      <th>user</th>\n",
       "    </tr>\n",
       "  </thead>\n",
       "  <tbody>\n",
       "    <tr>\n",
       "      <th>23</th>\n",
       "      <td>{'favoritesCount': 12299, 'postedTime': '2010-...</td>\n",
       "      <td>The best thing on the planet is a Cayla Bernic...</td>\n",
       "      <td>{'$date': 1470009633000}</td>\n",
       "      <td>NaN</td>\n",
       "      <td>0</td>\n",
       "      <td>{'link': 'http://instagram.com', 'displayName'...</td>\n",
       "      <td>{'type': 'Point', 'coordinates': [-81.08892961...</td>\n",
       "      <td>{'urls': [{'url': 'https://t.co/8Fq8S1i7lh', '...</td>\n",
       "      <td>tag:search.twitter.com,2005:759901597107310592</td>\n",
       "      <td>NaN</td>\n",
       "      <td>...</td>\n",
       "      <td>{'link': 'http://www.twitter.com', 'objectType...</td>\n",
       "      <td>0</td>\n",
       "      <td>{'urls': [{'url': 'https://t.co/8Fq8S1i7lh', '...</td>\n",
       "      <td>NaN</td>\n",
       "      <td>low</td>\n",
       "      <td>en</td>\n",
       "      <td>post</td>\n",
       "      <td>{'type': 'Point', 'coordinates': [-81.08892961...</td>\n",
       "      <td>POINT (-81.08892960999999 32.08106454)</td>\n",
       "      <td>Jkn27boss</td>\n",
       "    </tr>\n",
       "    <tr>\n",
       "      <th>117</th>\n",
       "      <td>{'favoritesCount': 424, 'postedTime': '2009-06...</td>\n",
       "      <td>Back To a School starts TOMORROW MORNING on TH...</td>\n",
       "      <td>{'$date': 1470009926000}</td>\n",
       "      <td>NaN</td>\n",
       "      <td>0</td>\n",
       "      <td>{'link': 'http://instagram.com', 'displayName'...</td>\n",
       "      <td>{'type': 'Point', 'coordinates': [-81.1565628,...</td>\n",
       "      <td>{'urls': [{'url': 'https://t.co/et4Flu9Ugt', '...</td>\n",
       "      <td>tag:search.twitter.com,2005:759902825837199360</td>\n",
       "      <td>NaN</td>\n",
       "      <td>...</td>\n",
       "      <td>{'link': 'http://www.twitter.com', 'objectType...</td>\n",
       "      <td>0</td>\n",
       "      <td>{'urls': [{'url': 'https://t.co/et4Flu9Ugt', '...</td>\n",
       "      <td>NaN</td>\n",
       "      <td>low</td>\n",
       "      <td>en</td>\n",
       "      <td>post</td>\n",
       "      <td>{'type': 'Point', 'coordinates': [-81.1565628,...</td>\n",
       "      <td>POINT (-81.1565628 32.0664444)</td>\n",
       "      <td>wtocdonlogana</td>\n",
       "    </tr>\n",
       "    <tr>\n",
       "      <th>502</th>\n",
       "      <td>{'favoritesCount': 13186, 'postedTime': '2012-...</td>\n",
       "      <td>@Nicole99442718 so excited ❤️</td>\n",
       "      <td>{'$date': 1470010835000}</td>\n",
       "      <td>NaN</td>\n",
       "      <td>0</td>\n",
       "      <td>{'link': 'http://twitter.com/download/iphone',...</td>\n",
       "      <td>NaN</td>\n",
       "      <td>{'matching_rules': [{'tag': 'id:266,radii:34,c...</td>\n",
       "      <td>tag:search.twitter.com,2005:759906638786625536</td>\n",
       "      <td>{'link': 'http://twitter.com/Nicole99442718/st...</td>\n",
       "      <td>...</td>\n",
       "      <td>{'link': 'http://www.twitter.com', 'objectType...</td>\n",
       "      <td>0</td>\n",
       "      <td>{'urls': [], 'symbols': [], 'user_mentions': [...</td>\n",
       "      <td>NaN</td>\n",
       "      <td>low</td>\n",
       "      <td>en</td>\n",
       "      <td>post</td>\n",
       "      <td>{'type': 'Polygon', 'coordinates': [[[-81.2391...</td>\n",
       "      <td>POLYGON ((-81.23916199999999 32.038881, -81.23...</td>\n",
       "      <td>AlyssaaJandro</td>\n",
       "    </tr>\n",
       "    <tr>\n",
       "      <th>575</th>\n",
       "      <td>{'favoritesCount': 349, 'postedTime': '2014-10...</td>\n",
       "      <td>I pulled up to McDonalds and the order-taker s...</td>\n",
       "      <td>{'$date': 1470010999000}</td>\n",
       "      <td>NaN</td>\n",
       "      <td>0</td>\n",
       "      <td>{'link': 'http://twitter.com/download/iphone',...</td>\n",
       "      <td>NaN</td>\n",
       "      <td>{'matching_rules': [{'tag': 'id:279,radii:50,c...</td>\n",
       "      <td>tag:search.twitter.com,2005:759907325645692928</td>\n",
       "      <td>NaN</td>\n",
       "      <td>...</td>\n",
       "      <td>{'link': 'http://www.twitter.com', 'objectType...</td>\n",
       "      <td>0</td>\n",
       "      <td>{'urls': [], 'symbols': [], 'user_mentions': [...</td>\n",
       "      <td>NaN</td>\n",
       "      <td>low</td>\n",
       "      <td>en</td>\n",
       "      <td>post</td>\n",
       "      <td>{'type': 'Polygon', 'coordinates': [[[-81.1342...</td>\n",
       "      <td>POLYGON ((-81.134215 31.920437, -81.134215 31....</td>\n",
       "      <td>graciesmith4410</td>\n",
       "    </tr>\n",
       "    <tr>\n",
       "      <th>608</th>\n",
       "      <td>{'favoritesCount': 5273, 'postedTime': '2013-0...</td>\n",
       "      <td>Aubrey- \"if you hold in your poop for a long t...</td>\n",
       "      <td>{'$date': 1470011035000}</td>\n",
       "      <td>NaN</td>\n",
       "      <td>0</td>\n",
       "      <td>{'link': 'http://twitter.com/download/iphone',...</td>\n",
       "      <td>NaN</td>\n",
       "      <td>{'matching_rules': [{'tag': 'id:266,radii:34,c...</td>\n",
       "      <td>tag:search.twitter.com,2005:759907475889922049</td>\n",
       "      <td>NaN</td>\n",
       "      <td>...</td>\n",
       "      <td>{'link': 'http://www.twitter.com', 'objectType...</td>\n",
       "      <td>0</td>\n",
       "      <td>{'urls': [], 'symbols': [], 'user_mentions': [...</td>\n",
       "      <td>NaN</td>\n",
       "      <td>low</td>\n",
       "      <td>en</td>\n",
       "      <td>post</td>\n",
       "      <td>{'type': 'Polygon', 'coordinates': [[[-81.2391...</td>\n",
       "      <td>POLYGON ((-81.23916199999999 32.038881, -81.23...</td>\n",
       "      <td>abigaildavis99</td>\n",
       "    </tr>\n",
       "  </tbody>\n",
       "</table>\n",
       "<p>5 rows × 26 columns</p>\n",
       "</div>"
      ],
      "text/plain": [
       "                                                 actor  \\\n",
       "23   {'favoritesCount': 12299, 'postedTime': '2010-...   \n",
       "117  {'favoritesCount': 424, 'postedTime': '2009-06...   \n",
       "502  {'favoritesCount': 13186, 'postedTime': '2012-...   \n",
       "575  {'favoritesCount': 349, 'postedTime': '2014-10...   \n",
       "608  {'favoritesCount': 5273, 'postedTime': '2013-0...   \n",
       "\n",
       "                                                  body  \\\n",
       "23   The best thing on the planet is a Cayla Bernic...   \n",
       "117  Back To a School starts TOMORROW MORNING on TH...   \n",
       "502                      @Nicole99442718 so excited ❤️   \n",
       "575  I pulled up to McDonalds and the order-taker s...   \n",
       "608  Aubrey- \"if you hold in your poop for a long t...   \n",
       "\n",
       "                     datetime display_text_range  favoritesCount  \\\n",
       "23   {'$date': 1470009633000}                NaN               0   \n",
       "117  {'$date': 1470009926000}                NaN               0   \n",
       "502  {'$date': 1470010835000}                NaN               0   \n",
       "575  {'$date': 1470010999000}                NaN               0   \n",
       "608  {'$date': 1470011035000}                NaN               0   \n",
       "\n",
       "                                             generator  \\\n",
       "23   {'link': 'http://instagram.com', 'displayName'...   \n",
       "117  {'link': 'http://instagram.com', 'displayName'...   \n",
       "502  {'link': 'http://twitter.com/download/iphone',...   \n",
       "575  {'link': 'http://twitter.com/download/iphone',...   \n",
       "608  {'link': 'http://twitter.com/download/iphone',...   \n",
       "\n",
       "                                                   geo  \\\n",
       "23   {'type': 'Point', 'coordinates': [-81.08892961...   \n",
       "117  {'type': 'Point', 'coordinates': [-81.1565628,...   \n",
       "502                                                NaN   \n",
       "575                                                NaN   \n",
       "608                                                NaN   \n",
       "\n",
       "                                                  gnip  \\\n",
       "23   {'urls': [{'url': 'https://t.co/8Fq8S1i7lh', '...   \n",
       "117  {'urls': [{'url': 'https://t.co/et4Flu9Ugt', '...   \n",
       "502  {'matching_rules': [{'tag': 'id:266,radii:34,c...   \n",
       "575  {'matching_rules': [{'tag': 'id:279,radii:50,c...   \n",
       "608  {'matching_rules': [{'tag': 'id:266,radii:34,c...   \n",
       "\n",
       "                                                 id  \\\n",
       "23   tag:search.twitter.com,2005:759901597107310592   \n",
       "117  tag:search.twitter.com,2005:759902825837199360   \n",
       "502  tag:search.twitter.com,2005:759906638786625536   \n",
       "575  tag:search.twitter.com,2005:759907325645692928   \n",
       "608  tag:search.twitter.com,2005:759907475889922049   \n",
       "\n",
       "                                             inReplyTo       ...         \\\n",
       "23                                                 NaN       ...          \n",
       "117                                                NaN       ...          \n",
       "502  {'link': 'http://twitter.com/Nicole99442718/st...       ...          \n",
       "575                                                NaN       ...          \n",
       "608                                                NaN       ...          \n",
       "\n",
       "                                              provider retweetCount  \\\n",
       "23   {'link': 'http://www.twitter.com', 'objectType...            0   \n",
       "117  {'link': 'http://www.twitter.com', 'objectType...            0   \n",
       "502  {'link': 'http://www.twitter.com', 'objectType...            0   \n",
       "575  {'link': 'http://www.twitter.com', 'objectType...            0   \n",
       "608  {'link': 'http://www.twitter.com', 'objectType...            0   \n",
       "\n",
       "                                      twitter_entities  \\\n",
       "23   {'urls': [{'url': 'https://t.co/8Fq8S1i7lh', '...   \n",
       "117  {'urls': [{'url': 'https://t.co/et4Flu9Ugt', '...   \n",
       "502  {'urls': [], 'symbols': [], 'user_mentions': [...   \n",
       "575  {'urls': [], 'symbols': [], 'user_mentions': [...   \n",
       "608  {'urls': [], 'symbols': [], 'user_mentions': [...   \n",
       "\n",
       "    twitter_extended_entities twitter_filter_level twitter_lang  verb  \\\n",
       "23                        NaN                  low           en  post   \n",
       "117                       NaN                  low           en  post   \n",
       "502                       NaN                  low           en  post   \n",
       "575                       NaN                  low           en  post   \n",
       "608                       NaN                  low           en  post   \n",
       "\n",
       "                                               geojson  \\\n",
       "23   {'type': 'Point', 'coordinates': [-81.08892961...   \n",
       "117  {'type': 'Point', 'coordinates': [-81.1565628,...   \n",
       "502  {'type': 'Polygon', 'coordinates': [[[-81.2391...   \n",
       "575  {'type': 'Polygon', 'coordinates': [[[-81.1342...   \n",
       "608  {'type': 'Polygon', 'coordinates': [[[-81.2391...   \n",
       "\n",
       "                                              geometry             user  \n",
       "23              POINT (-81.08892960999999 32.08106454)        Jkn27boss  \n",
       "117                     POINT (-81.1565628 32.0664444)    wtocdonlogana  \n",
       "502  POLYGON ((-81.23916199999999 32.038881, -81.23...    AlyssaaJandro  \n",
       "575  POLYGON ((-81.134215 31.920437, -81.134215 31....  graciesmith4410  \n",
       "608  POLYGON ((-81.23916199999999 32.038881, -81.23...   abigaildavis99  \n",
       "\n",
       "[5 rows x 26 columns]"
      ]
     },
     "execution_count": 127,
     "metadata": {},
     "output_type": "execute_result"
    }
   ],
   "source": [
    "sav_tweets.head()"
   ]
  },
  {
   "cell_type": "code",
   "execution_count": 79,
   "metadata": {
    "collapsed": false
   },
   "outputs": [
    {
     "data": {
      "text/plain": [
       "actor                        3879\n",
       "body                         3879\n",
       "datetime                     3879\n",
       "display_text_range           1039\n",
       "favoritesCount               3879\n",
       "generator                    3879\n",
       "geo                          1268\n",
       "gnip                         3879\n",
       "id                           3879\n",
       "inReplyTo                     775\n",
       "link                         3879\n",
       "location                     3879\n",
       "long_object                     6\n",
       "object                       3879\n",
       "objectType                   3879\n",
       "postedTime                   3879\n",
       "provider                     3879\n",
       "retweetCount                 3879\n",
       "twitter_entities             3879\n",
       "twitter_extended_entities     499\n",
       "twitter_filter_level         3879\n",
       "twitter_lang                 3879\n",
       "verb                         3879\n",
       "geojson                      3879\n",
       "geometry                     3879\n",
       "dtype: int64"
      ]
     },
     "execution_count": 79,
     "metadata": {},
     "output_type": "execute_result"
    }
   ],
   "source": [
    "tybee_tweets.count()"
   ]
  },
  {
   "cell_type": "code",
   "execution_count": 84,
   "metadata": {
    "collapsed": true
   },
   "outputs": [],
   "source": [
    "import geopandas as gpd\n",
    "%matplotlib inline"
   ]
  },
  {
   "cell_type": "code",
   "execution_count": 85,
   "metadata": {
    "collapsed": false
   },
   "outputs": [],
   "source": [
    "x = gpd.GeoDataFrame(tybee_tweets)"
   ]
  },
  {
   "cell_type": "code",
   "execution_count": 86,
   "metadata": {
    "collapsed": false
   },
   "outputs": [
    {
     "data": {
      "text/plain": [
       "<matplotlib.axes._subplots.AxesSubplot at 0x7fb76e9dba20>"
      ]
     },
     "execution_count": 86,
     "metadata": {},
     "output_type": "execute_result"
    },
    {
     "data": {
      "image/png": "[encoded data removed]",
      "text/plain": [
       "<matplotlib.figure.Figure at 0x7fb76e9b9e48>"
      ]
     },
     "metadata": {},
     "output_type": "display_data"
    }
   ],
   "source": [
    "x.plot()"
   ]
  },
  {
   "cell_type": "code",
   "execution_count": null,
   "metadata": {
    "collapsed": true
   },
   "outputs": [],
   "source": []
  },
  {
   "cell_type": "markdown",
   "metadata": {},
   "source": [
    "### Test that these are working as we hope?"
   ]
  },
  {
   "cell_type": "code",
   "execution_count": 89,
   "metadata": {
    "collapsed": false
   },
   "outputs": [],
   "source": [
    "feat_coll = {\"type\":\"GeometryCollection\",\"geometries\":[]}\n",
    "for idx, t in sav_tweets.sample(1000).iterrows():\n",
    "    feat_coll['geometries'].append(t.geojson)\n",
    "json.dump(feat_coll, open(\"/data/www/chime/sav_sample.geojson\",'w'))"
   ]
  },
  {
   "cell_type": "code",
   "execution_count": 90,
   "metadata": {
    "collapsed": true
   },
   "outputs": [],
   "source": [
    "feat_coll = {\"type\":\"GeometryCollection\",\"geometries\":[]}\n",
    "for idx, t in tybee_tweets.sample(1000).iterrows():\n",
    "    feat_coll['geometries'].append(t.geojson)\n",
    "json.dump(feat_coll, open(\"/data/www/chime/tybee_sample.geojson\",'w'))"
   ]
  },
  {
   "cell_type": "markdown",
   "metadata": {},
   "source": [
    "http://www.townsendjennings.com/geo/?src=http://epic-analytics.cs.colorado.edu:9000/chime/sav_sample.geojson#13.01/32.0054/-80.8585\n",
    "\n",
    "http://www.townsendjennings.com/geo/?src=http://epic-analytics.cs.colorado.edu:9000/chime/tybee_sample.geojson#13.01/32.0054/-80.8585"
   ]
  },
  {
   "cell_type": "markdown",
   "metadata": {},
   "source": [
    "Write the tweets out as CSVs:"
   ]
  },
  {
   "cell_type": "code",
   "execution_count": 111,
   "metadata": {
    "collapsed": false
   },
   "outputs": [
    {
     "name": "stderr",
     "output_type": "stream",
     "text": [
      "-c:1: SettingWithCopyWarning: \n",
      "A value is trying to be set on a copy of a slice from a DataFrame.\n",
      "Try using .loc[row_indexer,col_indexer] = value instead\n",
      "\n",
      "See the caveats in the documentation: http://pandas.pydata.org/pandas-docs/stable/indexing.html#indexing-view-versus-copy\n"
     ]
    }
   ],
   "source": [
    "tybee_tweets['user'] = df.actor.apply(lambda actor: actor['preferredUsername'])"
   ]
  },
  {
   "cell_type": "code",
   "execution_count": 112,
   "metadata": {
    "collapsed": false
   },
   "outputs": [
    {
     "name": "stderr",
     "output_type": "stream",
     "text": [
      "-c:1: SettingWithCopyWarning: \n",
      "A value is trying to be set on a copy of a slice from a DataFrame.\n",
      "Try using .loc[row_indexer,col_indexer] = value instead\n",
      "\n",
      "See the caveats in the documentation: http://pandas.pydata.org/pandas-docs/stable/indexing.html#indexing-view-versus-copy\n"
     ]
    }
   ],
   "source": [
    "sav_tweets['user'] = df.actor.apply(lambda actor: actor['preferredUsername'])"
   ]
  },
  {
   "cell_type": "code",
   "execution_count": 113,
   "metadata": {
    "collapsed": true
   },
   "outputs": [],
   "source": [
    "rows = ['postedTime','user','body','link','geojson','verb']"
   ]
  },
  {
   "cell_type": "code",
   "execution_count": 114,
   "metadata": {
    "collapsed": false
   },
   "outputs": [],
   "source": [
    "tybee_tweets[rows].to_csv('/data/chime/matthew/locations/tybee_geo.csv')"
   ]
  },
  {
   "cell_type": "code",
   "execution_count": 128,
   "metadata": {
    "collapsed": false
   },
   "outputs": [],
   "source": [
    "sav_tweets[rows].to_csv('/data/chime/matthew/locations/savannah_geo.csv')"
   ]
  },
  {
   "cell_type": "code",
   "execution_count": null,
   "metadata": {
    "collapsed": true
   },
   "outputs": [],
   "source": []
  }
 ],
 "metadata": {
  "kernelspec": {
   "display_name": "IPython (Python 3)",
   "language": "python",
   "name": "python3"
  },
  "language_info": {
   "codemirror_mode": {
    "name": "ipython",
    "version": 3
   },
   "file_extension": ".py",
   "mimetype": "text/x-python",
   "name": "python",
   "nbconvert_exporter": "python",
   "pygments_lexer": "ipython3",
   "version": "3.4.3"
  }
 },
 "nbformat": 4,
 "nbformat_minor": 1
}
