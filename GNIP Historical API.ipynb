{
 "cells": [
  {
   "cell_type": "markdown",
   "metadata": {},
   "source": [
    "# GNIP Historical PowerTrack 2.0 API"
   ]
  },
  {
   "cell_type": "code",
   "execution_count": 19,
   "metadata": {
    "collapsed": true
   },
   "outputs": [],
   "source": [
    "JOB_DIR    = './gnip-keyword-query'\n",
    "JOB_CONFIG = './gnip-keyword-query/keyword_query_job.yml'"
   ]
  },
  {
   "cell_type": "code",
   "execution_count": 20,
   "metadata": {
    "collapsed": true
   },
   "outputs": [],
   "source": [
    "import json, yaml, requests, sys, os, pprint\n",
    "from requests.auth import HTTPBasicAuth"
   ]
  },
  {
   "cell_type": "code",
   "execution_count": 21,
   "metadata": {
    "collapsed": false
   },
   "outputs": [],
   "source": [
    "ENDPOINT = 'https://gnip-api.gnip.com/historical/powertrack/accounts/CUResearch/publishers/twitter/jobs.json'\n",
    "BASE_URI = 'https://gnip-api.gnip.com/historical/powertrack/accounts/CUResearch/publishers/twitter/jobs/'\n",
    "\n",
    "class HistoricalPowerTrackJob():\n",
    "    \"\"\"http://support.gnip.com/apis/historical_api2.0/api_reference.html#Create\"\"\"\n",
    "    def __init__(self,config):\n",
    "        self.config = yaml.load(open(config,'r'))\n",
    "\n",
    "        #Create authentication\n",
    "        auth_file = yaml.load(open('/home/anderstj/credentials/gnip.yaml'))\n",
    "        self.auth=HTTPBasicAuth(auth_file['username'],auth_file['password'])\n",
    "    def load_rules(self):\n",
    "        try:\n",
    "            rules = json.load(open(JOB_DIR+\"/\"+self.config['rules_file'],'r'))\n",
    "        except:\n",
    "            print(\"ERROR parsing rules\")\n",
    "            sys.exit(1)\n",
    "        return rules\n",
    "    \n",
    "    def make_payload(self):\n",
    "        self.payload = {\n",
    "            \"publisher\":\"twitter\",\n",
    "            \"streamType\":\"track_v2\",\n",
    "            \"dataFormat\":\"activity_streams\",\n",
    "\n",
    "            \"title\":self.config['title'],\n",
    "            \"fromDate\":self.config['from_date'],\n",
    "            \"toDate\":self.config['to_date'],\n",
    "            \n",
    "            \"rules\": {'value':'#mathieu','tag':'mathieu'} #self.load_rules()\n",
    "        }\n",
    "    \n",
    "    def testAPI(self):\n",
    "        response = requests.get(ENDPOINT,auth=self.auth)\n",
    "        return response.json()\n",
    "    \n",
    "    def status():\n",
    "        response = requests.get(BASE_URI+self.uuid+\".json\", auth=self.auth)\n",
    "        return response.json()\n",
    "    \n",
    "    def submit(self):\n",
    "        self.make_payload()\n",
    "        print(\"Submitting Job with payload:\\n\",self.payload)\n",
    "        self.response = requests.post(ENDPOINT,\n",
    "                                 auth=self.auth,\n",
    "                                 json=self.payload)\n",
    "        self.first_response = self.response.json()\n",
    "    \n",
    "    def reject(self):\n",
    "        response\n",
    "        return False\n",
    "    \n",
    "    def accept(self):\n",
    "        return False\n",
    "        "
   ]
  },
  {
   "cell_type": "code",
   "execution_count": 23,
   "metadata": {
    "collapsed": false,
    "scrolled": false
   },
   "outputs": [
    {
     "name": "stdout",
     "output_type": "stream",
     "text": [
      "{'dataFormat': 'activity_streams',\n",
      " 'fromDate': 201609250000,\n",
      " 'publisher': 'twitter',\n",
      " 'rules': {'tag': 'mathieu', 'value': '#mathieu'},\n",
      " 'streamType': 'track_v2',\n",
      " 'title': 'HurricaneMatthewKeywordQuery_Haiti_v1',\n",
      " 'toDate': 201610220000}\n"
     ]
    }
   ],
   "source": [
    "job = HistoricalPowerTrackJob(JOB_CONFIG)\n",
    "job.make_payload()\n",
    "pprint.pprint(job.payload)"
   ]
  },
  {
   "cell_type": "markdown",
   "metadata": {},
   "source": [
    "# Historical Powertrack Request\n",
    "\n",
    "## Part 1: Submit the job"
   ]
  },
  {
   "cell_type": "code",
   "execution_count": 24,
   "metadata": {
    "collapsed": false
   },
   "outputs": [
    {
     "name": "stdout",
     "output_type": "stream",
     "text": [
      "Submitting Job with payload:\n",
      " {'streamType': 'track_v2', 'rules': {'tag': 'mathieu', 'value': '#mathieu'}, 'title': 'HurricaneMatthewKeywordQuery_Haiti_v1', 'dataFormat': 'activity_streams', 'toDate': 201610220000, 'publisher': 'twitter', 'fromDate': 201609250000}\n"
     ]
    },
    {
     "data": {
      "text/plain": [
       "{'reason': 'Unexpected error occurred. Please contact support@gnip.com',\n",
       " 'status': 'error'}"
      ]
     },
     "execution_count": 24,
     "metadata": {},
     "output_type": "execute_result"
    }
   ],
   "source": [
    "job.submit()\n",
    "job.first_response"
   ]
  },
  {
   "cell_type": "code",
   "execution_count": 17,
   "metadata": {
    "collapsed": false
   },
   "outputs": [
    {
     "data": {
      "text/plain": [
       "{'Status': '500 Internal Server Error', 'Cache-Control': 'no-cache', 'Content-Type': 'application/json; charset=utf-8', 'Set-Cookie': '_gnip-snapshoterator_session=BAh7BkkiD3Nlc3Npb25faWQGOgZFVEkiJThiZmRjZWM1N2VlMGJkMjNmZTRlN2JmNGNiMjVhMWUyBjsAVA%3D%3D--50af2dd954435dc102d041827a7fbb9c3912df88; path=/; secure; HttpOnly, BIGipServer~Prod~snapshoterator_pool=949035018.64288.0000; path=/', 'Date': 'Sun, 23 Oct 2016 21:29:28 GMT', 'Vary': 'Accept-Encoding', 'X-Request-Id': '6690e66f3caf19f5c42f0a1726defd32', 'Connection': 'keep-alive', 'X-Runtime': '0.874789', 'Transfer-Encoding': 'chunked', 'X-UA-Compatible': 'IE=Edge,chrome=1', 'Content-Encoding': 'gzip', 'Strict-Transport-Security': 'max-age=31536000', 'X-Rack-Cache': 'invalidate, pass'}"
      ]
     },
     "execution_count": 17,
     "metadata": {},
     "output_type": "execute_result"
    }
   ],
   "source": [
    "job.response.headers"
   ]
  },
  {
   "cell_type": "code",
   "execution_count": null,
   "metadata": {
    "collapsed": true
   },
   "outputs": [],
   "source": []
  },
  {
   "cell_type": "markdown",
   "metadata": {
    "collapsed": true
   },
   "source": [
    "## Final Part: Retrieve the Results\n",
    "Check the status of the job until the results.json file is ready and then save it."
   ]
  },
  {
   "cell_type": "code",
   "execution_count": 15,
   "metadata": {
    "collapsed": false
   },
   "outputs": [],
   "source": [
    "# os.mkdir(JOB_DIR+\"/results\")\n",
    "job.status()"
   ]
  },
  {
   "cell_type": "code",
   "execution_count": null,
   "metadata": {
    "collapsed": true
   },
   "outputs": [],
   "source": []
  },
  {
   "cell_type": "markdown",
   "metadata": {},
   "source": [
    "## Test Credentials, GET Request\n",
    "A get request to this endpoint with the proper authentication returns a list of our current jobs."
   ]
  },
  {
   "cell_type": "code",
   "execution_count": 32,
   "metadata": {
    "collapsed": true
   },
   "outputs": [
    {
     "data": {
      "text/plain": [
       "{'delivered': {'activityCount': 316869,\n",
       "  'jobCount': 12,\n",
       "  'jobDaysRun': 486,\n",
       "  'period': 'trial',\n",
       "  'since': '2016-08-31T15:49:34Z'},\n",
       " 'jobs': [{'expiresAt': '2016-10-31T22:46:07Z',\n",
       "   'fromDate': '201608010000',\n",
       "   'jobURL': 'https://gnip-api.gnip.com:443/historical/powertrack/accounts/CUResearch/publishers/twitter/jobs/vttpj4nx3y.json',\n",
       "   'percentComplete': 100,\n",
       "   'publisher': 'twitter',\n",
       "   'status': 'delivered',\n",
       "   'streamType': 'track_v2',\n",
       "   'title': 'ruby_job_test',\n",
       "   'toDate': '201608012000',\n",
       "   'uuid': 'vttpj4nx3y'},\n",
       "  {'expiresAt': '2016-10-24T19:29:21Z',\n",
       "   'fromDate': '201109060000',\n",
       "   'jobURL': 'https://gnip-api.gnip.com:443/historical/powertrack/accounts/CUResearch/publishers/twitter/jobs/td1ycaqex3.json',\n",
       "   'percentComplete': 0,\n",
       "   'publisher': 'twitter',\n",
       "   'status': 'rejected',\n",
       "   'streamType': 'track_v2',\n",
       "   'title': '2010-four-mile-canyon-fire-(co)',\n",
       "   'toDate': '201610171210',\n",
       "   'uuid': 'td1ycaqex3'},\n",
       "  {'expiresAt': '2016-10-24T23:31:47Z',\n",
       "   'fromDate': '201006200000',\n",
       "   'jobURL': 'https://gnip-api.gnip.com:443/historical/powertrack/accounts/CUResearch/publishers/twitter/jobs/91h9gqy65e.json',\n",
       "   'percentComplete': 0,\n",
       "   'publisher': 'twitter',\n",
       "   'status': 'rejected',\n",
       "   'streamType': 'track_v2',\n",
       "   'title': '2010-schultz-(az)',\n",
       "   'toDate': '201610171532',\n",
       "   'uuid': '91h9gqy65e'},\n",
       "  {'expiresAt': '2016-10-24T23:33:16Z',\n",
       "   'fromDate': '201007130000',\n",
       "   'jobURL': 'https://gnip-api.gnip.com:443/historical/powertrack/accounts/CUResearch/publishers/twitter/jobs/ph073ty0dy.json',\n",
       "   'percentComplete': 0,\n",
       "   'publisher': 'twitter',\n",
       "   'status': 'rejected',\n",
       "   'streamType': 'track_v2',\n",
       "   'title': '2010-jefferson-(id)',\n",
       "   'toDate': '201610171536',\n",
       "   'uuid': 'ph073ty0dy'},\n",
       "  {'expiresAt': '2016-10-25T00:55:17Z',\n",
       "   'fromDate': '201006200000',\n",
       "   'jobURL': 'https://gnip-api.gnip.com:443/historical/powertrack/accounts/CUResearch/publishers/twitter/jobs/x53nsw51z.json',\n",
       "   'percentComplete': 0,\n",
       "   'publisher': 'twitter',\n",
       "   'status': 'quoted',\n",
       "   'streamType': 'track_v2',\n",
       "   'title': '2010-schultz-(az)-original-end-date',\n",
       "   'toDate': '201007132359',\n",
       "   'uuid': 'x53nsw51z'},\n",
       "  {'expiresAt': '2016-11-02T04:01:10Z',\n",
       "   'fromDate': '201009060000',\n",
       "   'jobURL': 'https://gnip-api.gnip.com:443/historical/powertrack/accounts/CUResearch/publishers/twitter/jobs/kjdd6ev2m0.json',\n",
       "   'percentComplete': 100,\n",
       "   'publisher': 'twitter',\n",
       "   'status': 'delivered',\n",
       "   'streamType': 'track_v2',\n",
       "   'title': '2010-four-mile-canyon-fire-(co)-original-end-date',\n",
       "   'toDate': '201009222359',\n",
       "   'uuid': 'kjdd6ev2m0'},\n",
       "  {'expiresAt': '2016-11-02T05:12:11Z',\n",
       "   'fromDate': '201206230000',\n",
       "   'jobURL': 'https://gnip-api.gnip.com:443/historical/powertrack/accounts/CUResearch/publishers/twitter/jobs/jv48w3e1tk.json',\n",
       "   'percentComplete': 100,\n",
       "   'publisher': 'twitter',\n",
       "   'status': 'delivered',\n",
       "   'streamType': 'track_v2',\n",
       "   'title': '2012-waldo-canyon-fire-(co)',\n",
       "   'toDate': '201207102359',\n",
       "   'uuid': 'jv48w3e1tk'},\n",
       "  {'expiresAt': '2016-11-02T07:15:11Z',\n",
       "   'fromDate': '201106260000',\n",
       "   'jobURL': 'https://gnip-api.gnip.com:443/historical/powertrack/accounts/CUResearch/publishers/twitter/jobs/fpth4386w6.json',\n",
       "   'percentComplete': 100,\n",
       "   'publisher': 'twitter',\n",
       "   'status': 'delivered',\n",
       "   'streamType': 'track_v2',\n",
       "   'title': '2011-las-conchas-fire-(nm)',\n",
       "   'toDate': '201108022359',\n",
       "   'uuid': 'fpth4386w6'},\n",
       "  {'expiresAt': '2016-11-02T07:10:11Z',\n",
       "   'fromDate': '201104090000',\n",
       "   'jobURL': 'https://gnip-api.gnip.com:443/historical/powertrack/accounts/CUResearch/publishers/twitter/jobs/jbzt807txh.json',\n",
       "   'percentComplete': 100,\n",
       "   'publisher': 'twitter',\n",
       "   'status': 'delivered',\n",
       "   'streamType': 'track_v2',\n",
       "   'title': '2011-rock-house-fire-(tx)',\n",
       "   'toDate': '201105122359',\n",
       "   'uuid': 'jbzt807txh'},\n",
       "  {'expiresAt': '2016-11-02T07:43:09Z',\n",
       "   'fromDate': '201105290000',\n",
       "   'jobURL': 'https://gnip-api.gnip.com:443/historical/powertrack/accounts/CUResearch/publishers/twitter/jobs/n0qz067wkw.json',\n",
       "   'percentComplete': 100,\n",
       "   'publisher': 'twitter',\n",
       "   'status': 'delivered',\n",
       "   'streamType': 'track_v2',\n",
       "   'title': '2011-wallow-(az)',\n",
       "   'toDate': '201107122359',\n",
       "   'uuid': 'n0qz067wkw'},\n",
       "  {'expiresAt': '2016-11-02T09:15:10Z',\n",
       "   'fromDate': '201308170000',\n",
       "   'jobURL': 'https://gnip-api.gnip.com:443/historical/powertrack/accounts/CUResearch/publishers/twitter/jobs/fbw5nyrg8v.json',\n",
       "   'percentComplete': 100,\n",
       "   'publisher': 'twitter',\n",
       "   'status': 'delivered',\n",
       "   'streamType': 'track_v2',\n",
       "   'title': '2013-rim-fire-(ca)',\n",
       "   'toDate': '201311242359',\n",
       "   'uuid': 'fbw5nyrg8v'},\n",
       "  {'expiresAt': '2016-11-02T06:34:12Z',\n",
       "   'fromDate': '201306280000',\n",
       "   'jobURL': 'https://gnip-api.gnip.com:443/historical/powertrack/accounts/CUResearch/publishers/twitter/jobs/3a2hby2bth.json',\n",
       "   'percentComplete': 100,\n",
       "   'publisher': 'twitter',\n",
       "   'status': 'delivered',\n",
       "   'streamType': 'track_v2',\n",
       "   'title': '2013-yarnell-hill-(az)',\n",
       "   'toDate': '201307102359',\n",
       "   'uuid': '3a2hby2bth'},\n",
       "  {'expiresAt': '2016-11-02T08:22:09Z',\n",
       "   'fromDate': '201508100000',\n",
       "   'jobURL': 'https://gnip-api.gnip.com:443/historical/powertrack/accounts/CUResearch/publishers/twitter/jobs/71gms10g2w.json',\n",
       "   'percentComplete': 100,\n",
       "   'publisher': 'twitter',\n",
       "   'status': 'delivered',\n",
       "   'streamType': 'track_v2',\n",
       "   'title': '2015-soda-fire-(id)',\n",
       "   'toDate': '201509092359',\n",
       "   'uuid': '71gms10g2w'},\n",
       "  {'expiresAt': '2016-11-05T02:00:11Z',\n",
       "   'fromDate': '201205160000',\n",
       "   'jobURL': 'https://gnip-api.gnip.com:443/historical/powertrack/accounts/CUResearch/publishers/twitter/jobs/gdnmvbjn5z.json',\n",
       "   'percentComplete': 100,\n",
       "   'publisher': 'twitter',\n",
       "   'status': 'delivered',\n",
       "   'streamType': 'track_v2',\n",
       "   'title': '2012-white-water-baldy-complex-(nm)',\n",
       "   'toDate': '201207312359',\n",
       "   'uuid': 'gdnmvbjn5z'},\n",
       "  {'expiresAt': '2016-11-05T01:35:11Z',\n",
       "   'fromDate': '201407140000',\n",
       "   'jobURL': 'https://gnip-api.gnip.com:443/historical/powertrack/accounts/CUResearch/publishers/twitter/jobs/t2katcbezc.json',\n",
       "   'percentComplete': 100,\n",
       "   'publisher': 'twitter',\n",
       "   'status': 'delivered',\n",
       "   'streamType': 'track_v2',\n",
       "   'title': '2014-carlton-complex-(wa)',\n",
       "   'toDate': '201408072359',\n",
       "   'uuid': 't2katcbezc'}]}"
      ]
     },
     "execution_count": 32,
     "metadata": {},
     "output_type": "execute_result"
    }
   ],
   "source": [
    "job.testAPI()"
   ]
  }
 ],
 "metadata": {
  "kernelspec": {
   "display_name": "IPython (Python 3)",
   "language": "python",
   "name": "python3"
  },
  "language_info": {
   "codemirror_mode": {
    "name": "ipython",
    "version": 3
   },
   "file_extension": ".py",
   "mimetype": "text/x-python",
   "name": "python",
   "nbconvert_exporter": "python",
   "pygments_lexer": "ipython3",
   "version": "3.4.3"
  }
 },
 "nbformat": 4,
 "nbformat_minor": 1
}
