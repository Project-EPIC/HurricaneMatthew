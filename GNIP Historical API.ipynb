{
 "cells": [
  {
   "cell_type": "markdown",
   "metadata": {},
   "source": [
    "# GNIP Historical PowerTrack 2.0 API"
   ]
  },
  {
   "cell_type": "code",
   "execution_count": 14,
   "metadata": {
    "collapsed": true
   },
   "outputs": [],
   "source": [
    "JOB_DIR    = './gnip-geo-query'\n",
    "JOB_CONFIG = './gnip-geo-query/geo_query_job.yml'"
   ]
  },
  {
   "cell_type": "code",
   "execution_count": 6,
   "metadata": {
    "collapsed": true
   },
   "outputs": [],
   "source": [
    "import json, yaml, requests, sys, os\n",
    "from requests.auth import HTTPBasicAuth"
   ]
  },
  {
   "cell_type": "code",
   "execution_count": 7,
   "metadata": {
    "collapsed": false
   },
   "outputs": [],
   "source": [
    "ENDPOINT = 'https://gnip-api.gnip.com/historical/powertrack/accounts/CUResearch/publishers/twitter/jobs.json'\n",
    "BASE_URI = 'https://gnip-api.gnip.com/historical/powertrack/accounts/CUResearch/publishers/twitter/jobs/'\n",
    "\n",
    "class HistoricalPowerTrackJob():\n",
    "    \"\"\"http://support.gnip.com/apis/historical_api2.0/api_reference.html#Create\"\"\"\n",
    "    def __init__(self,config):\n",
    "        self.config = yaml.load(open(config,'r'))\n",
    "\n",
    "        #Create authentication\n",
    "        auth_file = yaml.load(open('/home/anderstj/credentials/gnip.yaml'))\n",
    "        self.auth=HTTPBasicAuth(auth_file['username'],auth_file['password'])\n",
    "    def load_rules(self):\n",
    "        try:\n",
    "            rules = json.load(open(JOB_DIR+\"/\"+self.config['rules_file'],'r'))\n",
    "        except:\n",
    "            print(\"ERROR parsing rules\")\n",
    "            sys.exit(1)\n",
    "        return rules\n",
    "    \n",
    "    def make_payload(self):\n",
    "        self.payload = {\n",
    "            'title':self.config['title'],\n",
    "            'fromDate':self.config['from_date'],\n",
    "            'toDate':self.config['to_date'],\n",
    "            'publisher':'twitter',\n",
    "            'streamType':'track_v2',\n",
    "            'dataFormat':'activity_streams',\n",
    "            'rules': self.load_rules()\n",
    "        }\n",
    "    \n",
    "    def testAPI(self):\n",
    "        response = requests.get(ENDPOINT,auth=self.auth)\n",
    "        return response.json()\n",
    "    \n",
    "    def status():\n",
    "        response = requests.get(BASE_URI+self.uuid+\".json\", auth=self.auth)\n",
    "        return response.json()\n",
    "    \n",
    "    def submit(self):\n",
    "#         response = #Post the job\n",
    "        self.uuid = #Get the uuid from the response...\n",
    "        return False\n",
    "    \n",
    "    def reject(self):\n",
    "        response\n",
    "        return False\n",
    "    \n",
    "    def accept(self):\n",
    "        return False\n",
    "        "
   ]
  },
  {
   "cell_type": "code",
   "execution_count": 9,
   "metadata": {
    "collapsed": false,
    "scrolled": true
   },
   "outputs": [
    {
     "data": {
      "text/plain": [
       "{'dataFormat': 'activity_streams',\n",
       " 'fromDate': 201608010000,\n",
       " 'publisher': 'twitter',\n",
       " 'rules': [{'value': 'cow'}, {'tag': 'pets', 'value': 'dog'}],\n",
       " 'streamType': 'track_v2',\n",
       " 'title': 'HurricaneMatthewGeoQuery_v1',\n",
       " 'toDate': 201610270000}"
      ]
     },
     "execution_count": 9,
     "metadata": {},
     "output_type": "execute_result"
    }
   ],
   "source": [
    "job = HistoricalPowerTrackJob(JOB_CONFIG)\n",
    "job.make_payload()\n",
    "job.payload"
   ]
  },
  {
   "cell_type": "markdown",
   "metadata": {},
   "source": [
    "## Test Credentials, GET Request\n",
    "A get request to this endpoint with the proper authentication returns a list of our current jobs."
   ]
  },
  {
   "cell_type": "code",
   "execution_count": 169,
   "metadata": {
    "collapsed": true
   },
   "outputs": [
    {
     "data": {
      "text/plain": [
       "{'delivered': {'activityCount': 294709,\n",
       "  'jobCount': 10,\n",
       "  'jobDaysRun': 384,\n",
       "  'period': 'trial',\n",
       "  'since': '2016-08-31T15:49:34Z'},\n",
       " 'jobs': [{'expiresAt': '2016-10-23T09:25:10Z',\n",
       "   'fromDate': '201608010000',\n",
       "   'jobURL': 'https://gnip-api.gnip.com:443/historical/powertrack/accounts/CUResearch/publishers/twitter/jobs/pz2kwntec9.json',\n",
       "   'percentComplete': 0,\n",
       "   'publisher': 'twitter',\n",
       "   'status': 'rejected',\n",
       "   'streamType': 'track_v2',\n",
       "   'title': 'rb_job_test',\n",
       "   'toDate': '201608012000',\n",
       "   'uuid': 'pz2kwntec9'},\n",
       "  {'expiresAt': '2016-10-31T22:46:07Z',\n",
       "   'fromDate': '201608010000',\n",
       "   'jobURL': 'https://gnip-api.gnip.com:443/historical/powertrack/accounts/CUResearch/publishers/twitter/jobs/vttpj4nx3y.json',\n",
       "   'percentComplete': 100,\n",
       "   'publisher': 'twitter',\n",
       "   'status': 'delivered',\n",
       "   'streamType': 'track_v2',\n",
       "   'title': 'ruby_job_test',\n",
       "   'toDate': '201608012000',\n",
       "   'uuid': 'vttpj4nx3y'},\n",
       "  {'expiresAt': '2016-10-24T19:29:21Z',\n",
       "   'fromDate': '201109060000',\n",
       "   'jobURL': 'https://gnip-api.gnip.com:443/historical/powertrack/accounts/CUResearch/publishers/twitter/jobs/td1ycaqex3.json',\n",
       "   'percentComplete': 0,\n",
       "   'publisher': 'twitter',\n",
       "   'status': 'rejected',\n",
       "   'streamType': 'track_v2',\n",
       "   'title': '2010-four-mile-canyon-fire-(co)',\n",
       "   'toDate': '201610171210',\n",
       "   'uuid': 'td1ycaqex3'},\n",
       "  {'expiresAt': '2016-10-24T23:31:47Z',\n",
       "   'fromDate': '201006200000',\n",
       "   'jobURL': 'https://gnip-api.gnip.com:443/historical/powertrack/accounts/CUResearch/publishers/twitter/jobs/91h9gqy65e.json',\n",
       "   'percentComplete': 0,\n",
       "   'publisher': 'twitter',\n",
       "   'status': 'rejected',\n",
       "   'streamType': 'track_v2',\n",
       "   'title': '2010-schultz-(az)',\n",
       "   'toDate': '201610171532',\n",
       "   'uuid': '91h9gqy65e'},\n",
       "  {'expiresAt': '2016-10-24T23:33:16Z',\n",
       "   'fromDate': '201007130000',\n",
       "   'jobURL': 'https://gnip-api.gnip.com:443/historical/powertrack/accounts/CUResearch/publishers/twitter/jobs/ph073ty0dy.json',\n",
       "   'percentComplete': 0,\n",
       "   'publisher': 'twitter',\n",
       "   'status': 'rejected',\n",
       "   'streamType': 'track_v2',\n",
       "   'title': '2010-jefferson-(id)',\n",
       "   'toDate': '201610171536',\n",
       "   'uuid': 'ph073ty0dy'},\n",
       "  {'expiresAt': '2016-10-25T00:55:17Z',\n",
       "   'fromDate': '201006200000',\n",
       "   'jobURL': 'https://gnip-api.gnip.com:443/historical/powertrack/accounts/CUResearch/publishers/twitter/jobs/x53nsw51z.json',\n",
       "   'percentComplete': 0,\n",
       "   'publisher': 'twitter',\n",
       "   'status': 'quoted',\n",
       "   'streamType': 'track_v2',\n",
       "   'title': '2010-schultz-(az)-original-end-date',\n",
       "   'toDate': '201007132359',\n",
       "   'uuid': 'x53nsw51z'},\n",
       "  {'expiresAt': '2016-11-02T04:01:10Z',\n",
       "   'fromDate': '201009060000',\n",
       "   'jobURL': 'https://gnip-api.gnip.com:443/historical/powertrack/accounts/CUResearch/publishers/twitter/jobs/kjdd6ev2m0.json',\n",
       "   'percentComplete': 100,\n",
       "   'publisher': 'twitter',\n",
       "   'status': 'delivered',\n",
       "   'streamType': 'track_v2',\n",
       "   'title': '2010-four-mile-canyon-fire-(co)-original-end-date',\n",
       "   'toDate': '201009222359',\n",
       "   'uuid': 'kjdd6ev2m0'},\n",
       "  {'expiresAt': '2016-11-02T05:12:11Z',\n",
       "   'fromDate': '201206230000',\n",
       "   'jobURL': 'https://gnip-api.gnip.com:443/historical/powertrack/accounts/CUResearch/publishers/twitter/jobs/jv48w3e1tk.json',\n",
       "   'percentComplete': 100,\n",
       "   'publisher': 'twitter',\n",
       "   'status': 'delivered',\n",
       "   'streamType': 'track_v2',\n",
       "   'title': '2012-waldo-canyon-fire-(co)',\n",
       "   'toDate': '201207102359',\n",
       "   'uuid': 'jv48w3e1tk'},\n",
       "  {'expiresAt': '2016-11-02T07:15:11Z',\n",
       "   'fromDate': '201106260000',\n",
       "   'jobURL': 'https://gnip-api.gnip.com:443/historical/powertrack/accounts/CUResearch/publishers/twitter/jobs/fpth4386w6.json',\n",
       "   'percentComplete': 100,\n",
       "   'publisher': 'twitter',\n",
       "   'status': 'delivered',\n",
       "   'streamType': 'track_v2',\n",
       "   'title': '2011-las-conchas-fire-(nm)',\n",
       "   'toDate': '201108022359',\n",
       "   'uuid': 'fpth4386w6'},\n",
       "  {'expiresAt': '2016-11-02T07:10:11Z',\n",
       "   'fromDate': '201104090000',\n",
       "   'jobURL': 'https://gnip-api.gnip.com:443/historical/powertrack/accounts/CUResearch/publishers/twitter/jobs/jbzt807txh.json',\n",
       "   'percentComplete': 100,\n",
       "   'publisher': 'twitter',\n",
       "   'status': 'delivered',\n",
       "   'streamType': 'track_v2',\n",
       "   'title': '2011-rock-house-fire-(tx)',\n",
       "   'toDate': '201105122359',\n",
       "   'uuid': 'jbzt807txh'},\n",
       "  {'expiresAt': '2016-11-02T07:43:09Z',\n",
       "   'fromDate': '201105290000',\n",
       "   'jobURL': 'https://gnip-api.gnip.com:443/historical/powertrack/accounts/CUResearch/publishers/twitter/jobs/n0qz067wkw.json',\n",
       "   'percentComplete': 100,\n",
       "   'publisher': 'twitter',\n",
       "   'status': 'delivered',\n",
       "   'streamType': 'track_v2',\n",
       "   'title': '2011-wallow-(az)',\n",
       "   'toDate': '201107122359',\n",
       "   'uuid': 'n0qz067wkw'},\n",
       "  {'expiresAt': '2016-11-02T09:15:10Z',\n",
       "   'fromDate': '201308170000',\n",
       "   'jobURL': 'https://gnip-api.gnip.com:443/historical/powertrack/accounts/CUResearch/publishers/twitter/jobs/fbw5nyrg8v.json',\n",
       "   'percentComplete': 100,\n",
       "   'publisher': 'twitter',\n",
       "   'status': 'delivered',\n",
       "   'streamType': 'track_v2',\n",
       "   'title': '2013-rim-fire-(ca)',\n",
       "   'toDate': '201311242359',\n",
       "   'uuid': 'fbw5nyrg8v'},\n",
       "  {'expiresAt': '2016-11-02T06:34:12Z',\n",
       "   'fromDate': '201306280000',\n",
       "   'jobURL': 'https://gnip-api.gnip.com:443/historical/powertrack/accounts/CUResearch/publishers/twitter/jobs/3a2hby2bth.json',\n",
       "   'percentComplete': 100,\n",
       "   'publisher': 'twitter',\n",
       "   'status': 'delivered',\n",
       "   'streamType': 'track_v2',\n",
       "   'title': '2013-yarnell-hill-(az)',\n",
       "   'toDate': '201307102359',\n",
       "   'uuid': '3a2hby2bth'},\n",
       "  {'expiresAt': '2016-11-02T08:22:09Z',\n",
       "   'fromDate': '201508100000',\n",
       "   'jobURL': 'https://gnip-api.gnip.com:443/historical/powertrack/accounts/CUResearch/publishers/twitter/jobs/71gms10g2w.json',\n",
       "   'percentComplete': 100,\n",
       "   'publisher': 'twitter',\n",
       "   'status': 'delivered',\n",
       "   'streamType': 'track_v2',\n",
       "   'title': '2015-soda-fire-(id)',\n",
       "   'toDate': '201509092359',\n",
       "   'uuid': '71gms10g2w'}]}"
      ]
     },
     "execution_count": 169,
     "metadata": {},
     "output_type": "execute_result"
    }
   ],
   "source": [
    "job.testAPI()"
   ]
  },
  {
   "cell_type": "markdown",
   "metadata": {},
   "source": [
    "# Historical Powertrack Request\n",
    "\n",
    "## Part 1: Submit the job"
   ]
  },
  {
   "cell_type": "code",
   "execution_count": 170,
   "metadata": {
    "collapsed": true
   },
   "outputs": [],
   "source": [
    "#part1 = requests.post(uri,auth=auth)"
   ]
  },
  {
   "cell_type": "code",
   "execution_count": null,
   "metadata": {
    "collapsed": true
   },
   "outputs": [],
   "source": []
  },
  {
   "cell_type": "markdown",
   "metadata": {
    "collapsed": true
   },
   "source": [
    "## Final Part: Retrieve the Results\n",
    "Check the status of the job until the results.json file is ready and then save it."
   ]
  },
  {
   "cell_type": "code",
   "execution_count": 15,
   "metadata": {
    "collapsed": false
   },
   "outputs": [],
   "source": [
    "# os.mkdir(JOB_DIR+\"/results\")\n",
    "job.status()"
   ]
  },
  {
   "cell_type": "code",
   "execution_count": null,
   "metadata": {
    "collapsed": true
   },
   "outputs": [],
   "source": []
  }
 ],
 "metadata": {
  "kernelspec": {
   "display_name": "IPython (Python 3)",
   "language": "python",
   "name": "python3"
  },
  "language_info": {
   "name": "python",
   "version": "3.4.3"
  }
 },
 "nbformat": 4,
 "nbformat_minor": 1
}
