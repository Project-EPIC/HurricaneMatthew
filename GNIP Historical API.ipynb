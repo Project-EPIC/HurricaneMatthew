{
 "cells": [
  {
   "cell_type": "markdown",
   "metadata": {},
   "source": [
    "# GNIP Historical PowerTrack 2.0 API"
   ]
  },
  {
   "cell_type": "code",
   "execution_count": 8,
   "metadata": {
    "collapsed": true
   },
   "outputs": [],
   "source": [
    "JOB_DIR    = './gnip-keyword-query'\n",
    "JOB_CONFIG = './gnip-keyword-query/keyword_query_job.yml'"
   ]
  },
  {
   "cell_type": "code",
   "execution_count": 9,
   "metadata": {
    "collapsed": true
   },
   "outputs": [],
   "source": [
    "import json, yaml, requests, sys, os, pprint\n",
    "from requests.auth import HTTPBasicAuth"
   ]
  },
  {
   "cell_type": "code",
   "execution_count": null,
   "metadata": {
    "collapsed": false
   },
   "outputs": [],
   "source": [
    "ENDPOINT = 'https://gnip-api.gnip.com/historical/powertrack/accounts/CUResearch/publishers/twitter/jobs.json'\n",
    "BASE_URI = 'https://gnip-api.gnip.com/historical/powertrack/accounts/CUResearch/publishers/twitter/jobs/'\n",
    "\n",
    "class HistoricalPowerTrackJob():\n",
    "    \"\"\"http://support.gnip.com/apis/historical_api2.0/api_reference.html#Create\"\"\"\n",
    "    def __init__(self,config):\n",
    "        self.config = yaml.load(open(config,'r'))\n",
    "\n",
    "        #Create authentication\n",
    "        auth_file = yaml.load(open('/home/anderstj/credentials/gnip.yaml'))\n",
    "        self.auth=HTTPBasicAuth(auth_file['username'],auth_file['password'])\n",
    "    def load_rules(self):\n",
    "        try:\n",
    "            rules = json.load(open(JOB_DIR+\"/\"+self.config['rules_file'],'r'))\n",
    "        except:\n",
    "            print(\"ERROR parsing rules\")\n",
    "            sys.exit(1)\n",
    "        return rules\n",
    "    \n",
    "    def make_payload(self):\n",
    "        self.payload = {\n",
    "            \"publisher\":\"twitter\",\n",
    "            \"streamType\":\"track_v2\",\n",
    "            \"dataFormat\":\"activity-streams\",\n",
    "\n",
    "            \"title\":self.config['title'],\n",
    "            \"fromDate\":self.config['from_date'],\n",
    "            \"toDate\":self.config['to_date'],\n",
    "            \n",
    "            \"rules\": self.load_rules()\n",
    "        }\n",
    "    \n",
    "    def testAPI(self):\n",
    "        self.test_response = requests.get(ENDPOINT,auth=self.auth)\n",
    "        return self.test_response.json()\n",
    "    \n",
    "    def status(self):\n",
    "        self.status_response = requests.get(self.url, auth=self.auth)\n",
    "        return self.status_response.json()\n",
    "    \n",
    "    def set_url(self,url):\n",
    "        self.url = url\n",
    "    \n",
    "    def submit(self):\n",
    "        self.make_payload()\n",
    "        print(\"Submitting Job with payload:\\n\",self.payload)\n",
    "        self.submit_response = requests.post(ENDPOINT,\n",
    "                                               auth=self.auth,\n",
    "                                               json=self.payload)\n",
    "        return self.submit_response.json()\n",
    "    \n",
    "    def reject(self):\n",
    "        self.reject_response = requests.put(self.url,auth=self.auth,json={\"status\":\"reject\"})\n",
    "        return self.reject_response.json()\n",
    "    \n",
    "    def accept(self):\n",
    "        self.accept_response = requests.put(self.url,auth=self.auth,json={\"status\":\"accept\"})\n",
    "        return self.accept_response.json()"
   ]
  },
  {
   "cell_type": "code",
   "execution_count": 32,
   "metadata": {
    "collapsed": false,
    "scrolled": false
   },
   "outputs": [
    {
     "name": "stdout",
     "output_type": "stream",
     "text": [
      "{'dataFormat': 'activity-streams',\n",
      " 'fromDate': '201609250000',\n",
      " 'publisher': 'twitter',\n",
      " 'rules': [{'tag': 'hurricane', 'value': 'hurricane OR ouragan'},\n",
      "           {'tag': 'siklon', 'value': 'siklón'},\n",
      "           {'tag': 'haiti', 'value': 'haiti'},\n",
      "           {'tag': 'matthew', 'value': 'hurricanematthew OR matthew'},\n",
      "           {'tag': 'mathieu', 'value': 'ouraganmathieu OR mathieu'},\n",
      "           {'tag': 'matthewhaiti', 'value': 'matthewhaiti'},\n",
      "           {'tag': 'matthew', 'value': '(matye ayiti) OR matyeayiti'},\n",
      "           {'tag': 'salut', 'value': 'port salut'},\n",
      "           {'tag': 'cayes', 'value': 'les cayes'},\n",
      "           {'tag': 'jeremie', 'value': 'jeremie OR jérémie'},\n",
      "           {'tag': 'prayforhaiti',\n",
      "            'value': '(pray for haiti) OR prayforhaiti OR pray4haiti'},\n",
      "           {'tag': 'jeremie', 'value': 'jeremie OR jérémie'},\n",
      "           {'tag': 'tiburonpenninsula',\n",
      "            'value': '(tiburon penninsula) OR tiburonpenninsula OR '\n",
      "                     '(península de tiburón)'},\n",
      "           {'tag': 'bahamas_jamaica_cuba',\n",
      "            'value': 'bahamas OR jamaica OR cuba'},\n",
      "           {'tag': 'prayforflorida',\n",
      "            'value': '(pray for florida) OR prayforflorida OR pray4florida'},\n",
      "           {'tag': 'state_wx',\n",
      "            'value': 'flwx OR ncwx OR scwx OR gawx OR vawx'},\n",
      "           {'tag': 'invest97l', 'value': 'invest97l'}],\n",
      " 'streamType': 'track_v2',\n",
      " 'title': 'HurricaneMatthewKeywordQuery_v1',\n",
      " 'toDate': '201610220000'}\n"
     ]
    }
   ],
   "source": [
    "job = HistoricalPowerTrackJob(JOB_CONFIG)\n",
    "job.make_payload()\n",
    "pprint.pprint(job.payload)"
   ]
  },
  {
   "cell_type": "markdown",
   "metadata": {},
   "source": [
    "# Historical Powertrack Request\n",
    "\n",
    "## Part 1: Submit the job"
   ]
  },
  {
   "cell_type": "code",
   "execution_count": 25,
   "metadata": {
    "collapsed": false,
    "scrolled": true
   },
   "outputs": [
    {
     "name": "stdout",
     "output_type": "stream",
     "text": [
      "Submitting Job with payload:\n",
      " {'toDate': '201610220000', 'dataFormat': 'activity-streams', 'title': 'HurricaneMatthewKeywordQuery_v1', 'publisher': 'twitter', 'rules': [{'value': 'hurricane OR ouragan', 'tag': 'hurricane'}, {'value': 'siklón', 'tag': 'siklon'}, {'value': 'haiti', 'tag': 'haiti'}, {'value': 'hurricanematthew OR matthew', 'tag': 'matthew'}, {'value': 'ouraganmathieu OR mathieu', 'tag': 'mathieu'}, {'value': 'matthewhaiti', 'tag': 'matthewhaiti'}, {'value': '(matye ayiti) OR matyeayiti', 'tag': 'matthew'}, {'value': 'port salut', 'tag': 'salut'}, {'value': 'les cayes', 'tag': 'cayes'}, {'value': 'jeremie OR jérémie', 'tag': 'jeremie'}, {'value': '(pray for haiti) OR prayforhaiti OR pray4haiti', 'tag': 'prayforhaiti'}, {'value': 'jeremie OR jérémie', 'tag': 'jeremie'}, {'value': '(tiburon penninsula) OR tiburonpenninsula OR (península de tiburón)', 'tag': 'tiburonpenninsula'}, {'value': 'bahamas OR jamaica OR cuba', 'tag': 'bahamas_jamaica_cuba'}, {'value': '(pray for florida) OR prayforflorida OR pray4florida', 'tag': 'prayforflorida'}, {'value': 'flwx OR ncwx OR scwx OR gawx OR vawx', 'tag': 'state_wx'}, {'value': 'invest97l', 'tag': 'invest97l'}], 'fromDate': '201609250000', 'streamType': 'track_v2'}\n"
     ]
    },
    {
     "data": {
      "text/plain": [
       "{'reason': {'title': ['has already been taken']}, 'status': 'error'}"
      ]
     },
     "execution_count": 25,
     "metadata": {},
     "output_type": "execute_result"
    }
   ],
   "source": [
    "#job.submit()"
   ]
  },
  {
   "cell_type": "code",
   "execution_count": 52,
   "metadata": {
    "collapsed": false,
    "scrolled": true
   },
   "outputs": [
    {
     "data": {
      "text/plain": [
       "{'acceptedAt': '2016-10-23T22:23:41Z',\n",
       " 'acceptedBy': 'jennings.anderson@colorado.edu',\n",
       " 'account': 'CUResearch',\n",
       " 'format': 'activity_streams',\n",
       " 'fromDate': '201609250000',\n",
       " 'jobURL': 'https://gnip-api.gnip.com:443/historical/powertrack/accounts/CUResearch/publishers/twitter/jobs/6f8p6x5g28.json',\n",
       " 'publisher': 'twitter',\n",
       " 'quote': {'estimatedActivityCount': 14988000,\n",
       "  'estimatedDurationHours': '10.0',\n",
       "  'estimatedFileSizeMb': '8335.06',\n",
       "  'expiresAt': '2016-10-30T22:23:12Z'},\n",
       " 'requestedAt': '2016-10-23T22:17:07Z',\n",
       " 'requestedBy': 'jennings.anderson@colorado.edu',\n",
       " 'status': 'accepted',\n",
       " 'statusMessage': 'Job accepted and ready to be queued.',\n",
       " 'streamType': 'track_v2',\n",
       " 'title': 'HurricaneMatthewKeywordQuery_v1',\n",
       " 'toDate': '201610220000'}"
      ]
     },
     "execution_count": 52,
     "metadata": {},
     "output_type": "execute_result"
    }
   ],
   "source": [
    "job.accept_response.json()"
   ]
  },
  {
   "cell_type": "markdown",
   "metadata": {},
   "source": [
    "## Part 2: Get Job URL"
   ]
  },
  {
   "cell_type": "code",
   "execution_count": 34,
   "metadata": {
    "collapsed": false
   },
   "outputs": [],
   "source": [
    "job.url = 'https://gnip-api.gnip.com:443/historical/powertrack/accounts/CUResearch/publishers/twitter/jobs/6f8p6x5g28.json'\n",
    "#job.submit_response\n",
    "job.set_url = job.status['jobURL']\n",
    "# This line should work.. I don't know why it's not? ... \n",
    "# but you can get the UUIDs for all running jobs (latest at the bottom from the testAPI() call.)\n",
    "# job.url = job.submit_response.json()['jobURL']"
   ]
  },
  {
   "cell_type": "markdown",
   "metadata": {},
   "source": [
    "## Part 3: Check Job Status (Wait for Quote to Finish)"
   ]
  },
  {
   "cell_type": "code",
   "execution_count": 37,
   "metadata": {
    "collapsed": false
   },
   "outputs": [
    {
     "data": {
      "text/plain": [
       "{'acceptedAt': '2016-10-23T22:23:41Z',\n",
       " 'acceptedBy': 'jennings.anderson@colorado.edu',\n",
       " 'account': 'CUResearch',\n",
       " 'format': 'activity_streams',\n",
       " 'fromDate': '201609250000',\n",
       " 'jobURL': 'https://gnip-api.gnip.com:443/historical/powertrack/accounts/CUResearch/publishers/twitter/jobs/6f8p6x5g28.json',\n",
       " 'percentComplete': 0,\n",
       " 'publisher': 'twitter',\n",
       " 'quote': {'estimatedActivityCount': 14988000,\n",
       "  'estimatedDurationHours': '10.0',\n",
       "  'estimatedFileSizeMb': '8335.06',\n",
       "  'expiresAt': '2016-10-30T22:23:12Z'},\n",
       " 'requestedAt': '2016-10-23T22:17:07Z',\n",
       " 'requestedBy': 'jennings.anderson@colorado.edu',\n",
       " 'status': 'running',\n",
       " 'statusMessage': 'Job queued and being processed.',\n",
       " 'streamType': 'track_v2',\n",
       " 'title': 'HurricaneMatthewKeywordQuery_v1',\n",
       " 'toDate': '201610220000'}"
      ]
     },
     "execution_count": 37,
     "metadata": {},
     "output_type": "execute_result"
    }
   ],
   "source": [
    "job.status()"
   ]
  },
  {
   "cell_type": "markdown",
   "metadata": {},
   "source": [
    "## Part 2: Accept or Reject the Job"
   ]
  },
  {
   "cell_type": "code",
   "execution_count": 36,
   "metadata": {
    "collapsed": false
   },
   "outputs": [
    {
     "data": {
      "text/plain": [
       "{'acceptedAt': '2016-10-23T22:23:41Z',\n",
       " 'acceptedBy': 'jennings.anderson@colorado.edu',\n",
       " 'account': 'CUResearch',\n",
       " 'format': 'activity_streams',\n",
       " 'fromDate': '201609250000',\n",
       " 'jobURL': 'https://gnip-api.gnip.com:443/historical/powertrack/accounts/CUResearch/publishers/twitter/jobs/6f8p6x5g28.json',\n",
       " 'publisher': 'twitter',\n",
       " 'quote': {'estimatedActivityCount': 14988000,\n",
       "  'estimatedDurationHours': '10.0',\n",
       "  'estimatedFileSizeMb': '8335.06',\n",
       "  'expiresAt': '2016-10-30T22:23:12Z'},\n",
       " 'requestedAt': '2016-10-23T22:17:07Z',\n",
       " 'requestedBy': 'jennings.anderson@colorado.edu',\n",
       " 'status': 'accepted',\n",
       " 'statusMessage': 'Job accepted and ready to be queued.',\n",
       " 'streamType': 'track_v2',\n",
       " 'title': 'HurricaneMatthewKeywordQuery_v1',\n",
       " 'toDate': '201610220000'}"
      ]
     },
     "execution_count": 36,
     "metadata": {},
     "output_type": "execute_result"
    }
   ],
   "source": [
    "#job.reject()\n",
    "#job.accept()"
   ]
  },
  {
   "cell_type": "markdown",
   "metadata": {},
   "source": [
    "## Part 3: Check the status again and see how it's doing.."
   ]
  },
  {
   "cell_type": "code",
   "execution_count": 55,
   "metadata": {
    "collapsed": false
   },
   "outputs": [
    {
     "data": {
      "text/plain": [
       "{'acceptedAt': '2016-10-23T22:23:41Z',\n",
       " 'acceptedBy': 'jennings.anderson@colorado.edu',\n",
       " 'account': 'CUResearch',\n",
       " 'format': 'activity_streams',\n",
       " 'fromDate': '201609250000',\n",
       " 'jobURL': 'https://gnip-api.gnip.com:443/historical/powertrack/accounts/CUResearch/publishers/twitter/jobs/6f8p6x5g28.json',\n",
       " 'percentComplete': 100,\n",
       " 'publisher': 'twitter',\n",
       " 'quote': {'estimatedActivityCount': 14988000,\n",
       "  'estimatedDurationHours': '10.0',\n",
       "  'estimatedFileSizeMb': '8335.06',\n",
       "  'expiresAt': '2016-10-30T22:23:12Z'},\n",
       " 'requestedAt': '2016-10-23T22:17:07Z',\n",
       " 'requestedBy': 'jennings.anderson@colorado.edu',\n",
       " 'results': {'activityCount': 13830252,\n",
       "  'completedAt': '2016-10-24T00:30:05Z',\n",
       "  'dataURL': 'https://gnip-api.gnip.com:443/historical/powertrack/accounts/CUResearch/publishers/twitter/jobs/6f8p6x5g28/results.json',\n",
       "  'expiresAt': '2016-11-08T00:29:08Z',\n",
       "  'fileCount': 3888,\n",
       "  'fileSizeMb': '7956.12'},\n",
       " 'status': 'delivered',\n",
       " 'statusMessage': 'Job delivered and available for download.',\n",
       " 'streamType': 'track_v2',\n",
       " 'title': 'HurricaneMatthewKeywordQuery_v1',\n",
       " 'toDate': '201610220000'}"
      ]
     },
     "execution_count": 55,
     "metadata": {},
     "output_type": "execute_result"
    }
   ],
   "source": [
    "job.status()"
   ]
  },
  {
   "cell_type": "markdown",
   "metadata": {
    "collapsed": true
   },
   "source": [
    "## Final Part: Retrieve the Results... Once job is complete!\n",
    "Check the status of the job until the results.json file is ready and then save it."
   ]
  },
  {
   "cell_type": "code",
   "execution_count": 56,
   "metadata": {
    "collapsed": false
   },
   "outputs": [
    {
     "name": "stdout",
     "output_type": "stream",
     "text": [
      "Found 13830252 tweets\n"
     ]
    }
   ],
   "source": [
    "status = job.status()\n",
    "print(\"Found %d tweets\"%(status['results']['activityCount']))"
   ]
  },
  {
   "cell_type": "code",
   "execution_count": 67,
   "metadata": {
    "collapsed": false
   },
   "outputs": [
    {
     "name": "stdout",
     "output_type": "stream",
     "text": [
      "Files: 3888\n",
      "Size: 7956 MB\n",
      "Expires: 2016-11-08T00:29:08Z\n"
     ]
    }
   ],
   "source": [
    "result_files = requests.get(status['results']['dataURL'], auth=job.auth).json()\n",
    "print(\"Files: %d\\nSize: %d MB\\nExpires: %s\"%(result_files['urlCount'],result_files['totalFileSizeBytes']/1048576,result_files['expiresAt']))"
   ]
  },
  {
   "cell_type": "code",
   "execution_count": 63,
   "metadata": {
    "collapsed": false
   },
   "outputs": [
    {
     "name": "stdout",
     "output_type": "stream",
     "text": [
      "dict_keys(['expiresAt', 'totalFileSizeBytes', 'urlCount', 'urlList'])\n"
     ]
    }
   ],
   "source": []
  },
  {
   "cell_type": "code",
   "execution_count": 64,
   "metadata": {
    "collapsed": false
   },
   "outputs": [],
   "source": [
    "with open(JOB_DIR+\"/results.json\",'w') as resultsFile: \n",
    "    json.dump(result_files,resultsFile)"
   ]
  },
  {
   "cell_type": "markdown",
   "metadata": {},
   "source": [
    "## Test Credentials, GET Request\n",
    "A get request to this endpoint with the proper authentication returns a list of our current jobs."
   ]
  },
  {
   "cell_type": "code",
   "execution_count": 41,
   "metadata": {
    "collapsed": false
   },
   "outputs": [
    {
     "name": "stdout",
     "output_type": "stream",
     "text": [
      "{'delivered': {'activityCount': 316869,\n",
      "               'jobCount': 12,\n",
      "               'jobDaysRun': 486,\n",
      "               'period': 'trial',\n",
      "               'since': '2016-08-31T15:49:34Z'},\n",
      " 'jobs': [{'expiresAt': '2016-10-31T22:46:07Z',\n",
      "           'fromDate': '201608010000',\n",
      "           'jobURL': 'https://gnip-api.gnip.com:443/historical/powertrack/accounts/CUResearch/publishers/twitter/jobs/vttpj4nx3y.json',\n",
      "           'percentComplete': 100,\n",
      "           'publisher': 'twitter',\n",
      "           'status': 'delivered',\n",
      "           'streamType': 'track_v2',\n",
      "           'title': 'ruby_job_test',\n",
      "           'toDate': '201608012000',\n",
      "           'uuid': 'vttpj4nx3y'},\n",
      "          {'expiresAt': '2016-10-24T19:29:21Z',\n",
      "           'fromDate': '201109060000',\n",
      "           'jobURL': 'https://gnip-api.gnip.com:443/historical/powertrack/accounts/CUResearch/publishers/twitter/jobs/td1ycaqex3.json',\n",
      "           'percentComplete': 0,\n",
      "           'publisher': 'twitter',\n",
      "           'status': 'rejected',\n",
      "           'streamType': 'track_v2',\n",
      "           'title': '2010-four-mile-canyon-fire-(co)',\n",
      "           'toDate': '201610171210',\n",
      "           'uuid': 'td1ycaqex3'},\n",
      "          {'expiresAt': '2016-10-24T23:31:47Z',\n",
      "           'fromDate': '201006200000',\n",
      "           'jobURL': 'https://gnip-api.gnip.com:443/historical/powertrack/accounts/CUResearch/publishers/twitter/jobs/91h9gqy65e.json',\n",
      "           'percentComplete': 0,\n",
      "           'publisher': 'twitter',\n",
      "           'status': 'rejected',\n",
      "           'streamType': 'track_v2',\n",
      "           'title': '2010-schultz-(az)',\n",
      "           'toDate': '201610171532',\n",
      "           'uuid': '91h9gqy65e'},\n",
      "          {'expiresAt': '2016-10-24T23:33:16Z',\n",
      "           'fromDate': '201007130000',\n",
      "           'jobURL': 'https://gnip-api.gnip.com:443/historical/powertrack/accounts/CUResearch/publishers/twitter/jobs/ph073ty0dy.json',\n",
      "           'percentComplete': 0,\n",
      "           'publisher': 'twitter',\n",
      "           'status': 'rejected',\n",
      "           'streamType': 'track_v2',\n",
      "           'title': '2010-jefferson-(id)',\n",
      "           'toDate': '201610171536',\n",
      "           'uuid': 'ph073ty0dy'},\n",
      "          {'expiresAt': '2016-10-25T00:55:17Z',\n",
      "           'fromDate': '201006200000',\n",
      "           'jobURL': 'https://gnip-api.gnip.com:443/historical/powertrack/accounts/CUResearch/publishers/twitter/jobs/x53nsw51z.json',\n",
      "           'percentComplete': 0,\n",
      "           'publisher': 'twitter',\n",
      "           'status': 'quoted',\n",
      "           'streamType': 'track_v2',\n",
      "           'title': '2010-schultz-(az)-original-end-date',\n",
      "           'toDate': '201007132359',\n",
      "           'uuid': 'x53nsw51z'},\n",
      "          {'expiresAt': '2016-11-02T04:01:10Z',\n",
      "           'fromDate': '201009060000',\n",
      "           'jobURL': 'https://gnip-api.gnip.com:443/historical/powertrack/accounts/CUResearch/publishers/twitter/jobs/kjdd6ev2m0.json',\n",
      "           'percentComplete': 100,\n",
      "           'publisher': 'twitter',\n",
      "           'status': 'delivered',\n",
      "           'streamType': 'track_v2',\n",
      "           'title': '2010-four-mile-canyon-fire-(co)-original-end-date',\n",
      "           'toDate': '201009222359',\n",
      "           'uuid': 'kjdd6ev2m0'},\n",
      "          {'expiresAt': '2016-11-02T05:12:11Z',\n",
      "           'fromDate': '201206230000',\n",
      "           'jobURL': 'https://gnip-api.gnip.com:443/historical/powertrack/accounts/CUResearch/publishers/twitter/jobs/jv48w3e1tk.json',\n",
      "           'percentComplete': 100,\n",
      "           'publisher': 'twitter',\n",
      "           'status': 'delivered',\n",
      "           'streamType': 'track_v2',\n",
      "           'title': '2012-waldo-canyon-fire-(co)',\n",
      "           'toDate': '201207102359',\n",
      "           'uuid': 'jv48w3e1tk'},\n",
      "          {'expiresAt': '2016-11-02T07:15:11Z',\n",
      "           'fromDate': '201106260000',\n",
      "           'jobURL': 'https://gnip-api.gnip.com:443/historical/powertrack/accounts/CUResearch/publishers/twitter/jobs/fpth4386w6.json',\n",
      "           'percentComplete': 100,\n",
      "           'publisher': 'twitter',\n",
      "           'status': 'delivered',\n",
      "           'streamType': 'track_v2',\n",
      "           'title': '2011-las-conchas-fire-(nm)',\n",
      "           'toDate': '201108022359',\n",
      "           'uuid': 'fpth4386w6'},\n",
      "          {'expiresAt': '2016-11-02T07:10:11Z',\n",
      "           'fromDate': '201104090000',\n",
      "           'jobURL': 'https://gnip-api.gnip.com:443/historical/powertrack/accounts/CUResearch/publishers/twitter/jobs/jbzt807txh.json',\n",
      "           'percentComplete': 100,\n",
      "           'publisher': 'twitter',\n",
      "           'status': 'delivered',\n",
      "           'streamType': 'track_v2',\n",
      "           'title': '2011-rock-house-fire-(tx)',\n",
      "           'toDate': '201105122359',\n",
      "           'uuid': 'jbzt807txh'},\n",
      "          {'expiresAt': '2016-11-02T07:43:09Z',\n",
      "           'fromDate': '201105290000',\n",
      "           'jobURL': 'https://gnip-api.gnip.com:443/historical/powertrack/accounts/CUResearch/publishers/twitter/jobs/n0qz067wkw.json',\n",
      "           'percentComplete': 100,\n",
      "           'publisher': 'twitter',\n",
      "           'status': 'delivered',\n",
      "           'streamType': 'track_v2',\n",
      "           'title': '2011-wallow-(az)',\n",
      "           'toDate': '201107122359',\n",
      "           'uuid': 'n0qz067wkw'},\n",
      "          {'expiresAt': '2016-11-02T09:15:10Z',\n",
      "           'fromDate': '201308170000',\n",
      "           'jobURL': 'https://gnip-api.gnip.com:443/historical/powertrack/accounts/CUResearch/publishers/twitter/jobs/fbw5nyrg8v.json',\n",
      "           'percentComplete': 100,\n",
      "           'publisher': 'twitter',\n",
      "           'status': 'delivered',\n",
      "           'streamType': 'track_v2',\n",
      "           'title': '2013-rim-fire-(ca)',\n",
      "           'toDate': '201311242359',\n",
      "           'uuid': 'fbw5nyrg8v'},\n",
      "          {'expiresAt': '2016-11-02T06:34:12Z',\n",
      "           'fromDate': '201306280000',\n",
      "           'jobURL': 'https://gnip-api.gnip.com:443/historical/powertrack/accounts/CUResearch/publishers/twitter/jobs/3a2hby2bth.json',\n",
      "           'percentComplete': 100,\n",
      "           'publisher': 'twitter',\n",
      "           'status': 'delivered',\n",
      "           'streamType': 'track_v2',\n",
      "           'title': '2013-yarnell-hill-(az)',\n",
      "           'toDate': '201307102359',\n",
      "           'uuid': '3a2hby2bth'},\n",
      "          {'expiresAt': '2016-11-02T08:22:09Z',\n",
      "           'fromDate': '201508100000',\n",
      "           'jobURL': 'https://gnip-api.gnip.com:443/historical/powertrack/accounts/CUResearch/publishers/twitter/jobs/71gms10g2w.json',\n",
      "           'percentComplete': 100,\n",
      "           'publisher': 'twitter',\n",
      "           'status': 'delivered',\n",
      "           'streamType': 'track_v2',\n",
      "           'title': '2015-soda-fire-(id)',\n",
      "           'toDate': '201509092359',\n",
      "           'uuid': '71gms10g2w'},\n",
      "          {'expiresAt': '2016-11-05T02:00:11Z',\n",
      "           'fromDate': '201205160000',\n",
      "           'jobURL': 'https://gnip-api.gnip.com:443/historical/powertrack/accounts/CUResearch/publishers/twitter/jobs/gdnmvbjn5z.json',\n",
      "           'percentComplete': 100,\n",
      "           'publisher': 'twitter',\n",
      "           'status': 'delivered',\n",
      "           'streamType': 'track_v2',\n",
      "           'title': '2012-white-water-baldy-complex-(nm)',\n",
      "           'toDate': '201207312359',\n",
      "           'uuid': 'gdnmvbjn5z'},\n",
      "          {'expiresAt': '2016-11-05T01:35:11Z',\n",
      "           'fromDate': '201407140000',\n",
      "           'jobURL': 'https://gnip-api.gnip.com:443/historical/powertrack/accounts/CUResearch/publishers/twitter/jobs/t2katcbezc.json',\n",
      "           'percentComplete': 100,\n",
      "           'publisher': 'twitter',\n",
      "           'status': 'delivered',\n",
      "           'streamType': 'track_v2',\n",
      "           'title': '2014-carlton-complex-(wa)',\n",
      "           'toDate': '201408072359',\n",
      "           'uuid': 't2katcbezc'},\n",
      "          {'expiresAt': '2016-10-30T22:02:16Z',\n",
      "           'fromDate': '201609250000',\n",
      "           'jobURL': 'https://gnip-api.gnip.com:443/historical/powertrack/accounts/CUResearch/publishers/twitter/jobs/k5x1mbkxdd.json',\n",
      "           'percentComplete': 0,\n",
      "           'publisher': 'twitter',\n",
      "           'status': 'rejected',\n",
      "           'streamType': 'track_v2',\n",
      "           'title': 'HurricaneMatthewKeywordQuery_Haiti_v1',\n",
      "           'toDate': '201610220000',\n",
      "           'uuid': 'k5x1mbkxdd'},\n",
      "          {'expiresAt': '2016-10-30T22:05:12Z',\n",
      "           'fromDate': '201609250000',\n",
      "           'jobURL': 'https://gnip-api.gnip.com:443/historical/powertrack/accounts/CUResearch/publishers/twitter/jobs/zrjh59jsq.json',\n",
      "           'percentComplete': 0,\n",
      "           'publisher': 'twitter',\n",
      "           'status': 'rejected',\n",
      "           'streamType': 'track_v2',\n",
      "           'title': 'HurricaneMatthewKeywordQuery_Haiti_v2',\n",
      "           'toDate': '201610220000',\n",
      "           'uuid': 'zrjh59jsq'},\n",
      "          {'expiresAt': '2016-11-07T22:24:19Z',\n",
      "           'fromDate': '201609250000',\n",
      "           'jobURL': 'https://gnip-api.gnip.com:443/historical/powertrack/accounts/CUResearch/publishers/twitter/jobs/6f8p6x5g28.json',\n",
      "           'percentComplete': 1,\n",
      "           'publisher': 'twitter',\n",
      "           'status': 'running',\n",
      "           'streamType': 'track_v2',\n",
      "           'title': 'HurricaneMatthewKeywordQuery_v1',\n",
      "           'toDate': '201610220000',\n",
      "           'uuid': '6f8p6x5g28'}]}\n"
     ]
    }
   ],
   "source": [
    "pprint.pprint(job.testAPI())"
   ]
  },
  {
   "cell_type": "code",
   "execution_count": null,
   "metadata": {
    "collapsed": true
   },
   "outputs": [],
   "source": []
  }
 ],
 "metadata": {
  "kernelspec": {
   "display_name": "IPython (Python 3)",
   "language": "python",
   "name": "python3"
  },
  "language_info": {
   "codemirror_mode": {
    "name": "ipython",
    "version": 3
   },
   "file_extension": ".py",
   "mimetype": "text/x-python",
   "name": "python",
   "nbconvert_exporter": "python",
   "pygments_lexer": "ipython3",
   "version": "3.4.3"
  }
 },
 "nbformat": 4,
 "nbformat_minor": 1
}
