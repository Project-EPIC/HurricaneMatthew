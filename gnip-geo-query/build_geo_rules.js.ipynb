{
 "cells": [
  {
   "cell_type": "code",
   "execution_count": 41,
   "metadata": {
    "collapsed": false
   },
   "outputs": [
    {
     "data": {
      "text/plain": [
       "undefined"
      ]
     },
     "execution_count": 41,
     "metadata": {},
     "output_type": "execute_result"
    }
   ],
   "source": [
    "var fs = require('fs')\n",
    "var turf = require('turf')"
   ]
  },
  {
   "cell_type": "raw",
   "metadata": {},
   "source": [
    "bounding_box:[-105.301758 39.964069 -105.178505 40.09455]"
   ]
  },
  {
   "cell_type": "code",
   "execution_count": 45,
   "metadata": {
    "collapsed": false
   },
   "outputs": [
    {
     "data": {
      "text/plain": [
       "undefined"
      ]
     },
     "execution_count": 45,
     "metadata": {},
     "output_type": "execute_result"
    }
   ],
   "source": [
    "var windswath = JSON.parse(fs.readFileSync('./bounds/35k_grid_windswath.geojson'))"
   ]
  },
  {
   "cell_type": "code",
   "execution_count": 46,
   "metadata": {
    "collapsed": false
   },
   "outputs": [
    {
     "data": {
      "text/plain": [
       "1286"
      ]
     },
     "execution_count": 46,
     "metadata": {},
     "output_type": "execute_result"
    }
   ],
   "source": [
    "windswath.features.length"
   ]
  },
  {
   "cell_type": "code",
   "execution_count": 47,
   "metadata": {
    "collapsed": false
   },
   "outputs": [
    {
     "name": "stdout",
     "output_type": "stream",
     "text": [
      "500\n",
      "1000\n"
     ]
    },
    {
     "data": {
      "text/plain": [
       "undefined"
      ]
     },
     "execution_count": 47,
     "metadata": {},
     "output_type": "execute_result"
    }
   ],
   "source": [
    "var rules = []\n",
    "windswath.features.forEach(function(feat, idx){\n",
    "    centerPt = JSON.stringify(turf.center(feat).geometry.coordinates)\n",
    "    radii    = feat.properties.radii\n",
    "    \n",
    "    rules.push(\n",
    "        {\n",
    "            value: \"bounding_box:\"+feat.properties.bbox,\n",
    "            tag:\"id:\"+idx+\",radii:\"+feat.properties.radii+\",center:\"+centerPt\n",
    "        })\n",
    "    //Write it out for every 500\n",
    "    if (idx > 0 && idx%500==0){\n",
    "        console.log(idx)\n",
    "        fs.writeFileSync('rules_'+idx+'.json',JSON.stringify(rules))\n",
    "        rules=[]\n",
    "    }\n",
    "})\n",
    "fs.writeFileSync('rules_'+windswath.features.length+'.json',JSON.stringify(rules))"
   ]
  },
  {
   "cell_type": "code",
   "execution_count": null,
   "metadata": {
    "collapsed": true
   },
   "outputs": [],
   "source": []
  }
 ],
 "metadata": {
  "kernelspec": {
   "display_name": "Javascript (Node.js)",
   "language": "javascript",
   "name": "javascript"
  },
  "language_info": {
   "file_extension": ".js",
   "mimetype": "application/javascript",
   "name": "javascript",
   "version": "6.4.0"
  }
 },
 "nbformat": 4,
 "nbformat_minor": 1
}
