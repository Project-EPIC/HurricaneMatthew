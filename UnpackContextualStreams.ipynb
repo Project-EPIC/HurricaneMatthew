{
 "cells": [
  {
   "cell_type": "code",
   "execution_count": 1,
   "metadata": {},
   "outputs": [],
   "source": [
    "import json, sys, os, pandas as pd\n",
    "from IPython import display"
   ]
  },
  {
   "cell_type": "markdown",
   "metadata": {},
   "source": [
    "# Run this notebook to unpack a user_data directory from a contextual collection\n",
    "\n",
    "### Required: "
   ]
  },
  {
   "cell_type": "code",
   "execution_count": 2,
   "metadata": {},
   "outputs": [],
   "source": [
    "input_dir        = \"/data/chime/matthew/savannah_contextual/user_data/\"\n",
    "output_dir       = \"savannah_contextual_csvs\"\n",
    "event_end_date   = pd.Timestamp(\"201610050000Z\") # Users without any tweets before this date are ignored."
   ]
  },
  {
   "cell_type": "markdown",
   "metadata": {},
   "source": [
    "### Optional: "
   ]
  },
  {
   "cell_type": "code",
   "execution_count": 3,
   "metadata": {
    "collapsed": true
   },
   "outputs": [],
   "source": [
    "# Just set the dates to False to not use them\n",
    "begin_date = pd.Timestamp(\"201608010000Z\")\n",
    "end_date   = pd.Timestamp(\"201705010000Z\")\n",
    "\n",
    "begin_date = False\n",
    "end_date   = False"
   ]
  },
  {
   "cell_type": "markdown",
   "metadata": {},
   "source": [
    "### What columns get written to the CSV: \n",
    "Note, if they're not top-level tweet properties, will need to define them in `write_user` function"
   ]
  },
  {
   "cell_type": "code",
   "execution_count": 4,
   "metadata": {
    "collapsed": true
   },
   "outputs": [],
   "source": [
    "columns = [\n",
    "    'created_at', \n",
    "    'text', \n",
    "    'coordinates', \n",
    "    'id_str', \n",
    "    'screen_name', \n",
    "    'user_location', \n",
    "    'user_time_zone', \n",
    "    'followers_count', \n",
    "    'friends_count', \n",
    "    'tweet_count', \n",
    "    'favorite_count', \n",
    "    'source',\n",
    "    'user_id_str'\n",
    "  ]"
   ]
  },
  {
   "cell_type": "code",
   "execution_count": 5,
   "metadata": {},
   "outputs": [],
   "source": [
    "if not os.path.exists(output_dir):\n",
    "    os.mkdir(output_dir) "
   ]
  },
  {
   "cell_type": "code",
   "execution_count": 6,
   "metadata": {
    "collapsed": true
   },
   "outputs": [],
   "source": [
    "def parse_user(user_jsonl_file):\n",
    "    ts = []\n",
    "    for line in open(user_jsonl_file):\n",
    "        ts.append(json.loads(line.strip()))\n",
    "    df = pd.DataFrame(ts)\n",
    "    df['timestamp'] = df.created_at.apply(lambda x: pd.Timestamp(x))\n",
    "    return df"
   ]
  },
  {
   "cell_type": "code",
   "execution_count": 7,
   "metadata": {
    "collapsed": true
   },
   "outputs": [],
   "source": [
    "def check_dates(user_df, begin_date=False, end_date=False):\n",
    "    if(user_df.timestamp.min() > event_end_date):\n",
    "        users_without_tweets_in_range.append(user_df.user[0]['screen_name'])\n",
    "        return None\n",
    "\n",
    "    if begin_date:\n",
    "        user_df = user_df[user_df.timestamp > begin_date]\n",
    "        \n",
    "    if end_date: \n",
    "        user_df = user_df[user_df.timestamp < end_date]\n",
    "        \n",
    "    return user_df"
   ]
  },
  {
   "cell_type": "code",
   "execution_count": null,
   "metadata": {
    "collapsed": true
   },
   "outputs": [],
   "source": [
    "def write_user(user_df):\n",
    "    \n",
    "    user_df['screen_name']    = user_df.user.apply(lambda x: x['screen_name'])\n",
    "    user_df['user_location']  = user_df.user.apply(lambda x: x['location'])\n",
    "    user_df['user_time_zone'] = user_df.user.apply(lambda x: x['time_zone'])\n",
    "    user_df['user_id_str']    = user_df.user.apply(lambda x: x['id_str'])\n",
    "    user_df['followers_count']= user_df.user.apply(lambda x: x['followers_count'])\n",
    "    user_df['friends_count']  = user_df.user.apply(lambda x: x['friends_count'])\n",
    "    user_df['tweet_count']    = user_df.user.apply(lambda x: x['statuses_count'])\n",
    "    user_df['friends_count']  = user_df.user.apply(lambda x: x['friends_count'])\n",
    "    \n",
    "    user_df.sort_values(by='timestamp')[columns].to_csv(output_dir + \"/\" + u['screen_name'].values[0]+ \".csv\", index=None)"
   ]
  },
  {
   "cell_type": "markdown",
   "metadata": {},
   "source": [
    "# Full Runtime"
   ]
  },
  {
   "cell_type": "code",
   "execution_count": null,
   "metadata": {},
   "outputs": [
    {
     "name": "stderr",
     "output_type": "stream",
     "text": [
      "Written 175 User(s), Coult not capture event tweets for 45 user(s)      "
     ]
    }
   ],
   "source": [
    "count = 0\n",
    "users_without_tweets_in_range = []\n",
    "with open(output_dir+'/users_without_tweets_in_range.txt','w') as failedUsers:\n",
    "    for path, sub, files in sorted(os.walk(input_dir)): \n",
    "        for file in files:\n",
    "    #         print(path, file)\n",
    "            # Parse User\n",
    "            u = parse_user(path+'/'+file)\n",
    "\n",
    "            # Check Dates\n",
    "            u = check_dates(u, begin_date=begin_date, end_date=end_date)\n",
    "\n",
    "            # Write the User CSV\n",
    "            if u is not None:\n",
    "                write_user(u)\n",
    "                count += 1\n",
    "            else:\n",
    "                failedUsers.write(users_without_tweets_in_range[-1]+\"\\n\")\n",
    "                failedUsers.flush()\n",
    "\n",
    "            sys.stderr.write(\"\\rWritten {0} User(s), Coult not capture event tweets for {1} user(s)      \".format(count, len(users_without_tweets_in_range)))\n",
    "            "
   ]
  },
  {
   "cell_type": "code",
   "execution_count": null,
   "metadata": {
    "collapsed": true
   },
   "outputs": [],
   "source": []
  }
 ],
 "metadata": {
  "kernelspec": {
   "display_name": "Python 3",
   "language": "python",
   "name": "python3"
  },
  "language_info": {
   "codemirror_mode": {
    "name": "ipython",
    "version": 3
   },
   "file_extension": ".py",
   "mimetype": "text/x-python",
   "name": "python",
   "nbconvert_exporter": "python",
   "pygments_lexer": "ipython3",
   "version": "3.5.2"
  }
 },
 "nbformat": 4,
 "nbformat_minor": 2
}
